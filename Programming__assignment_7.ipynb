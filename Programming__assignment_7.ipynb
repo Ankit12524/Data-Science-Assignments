{
  "nbformat": 4,
  "nbformat_minor": 0,
  "metadata": {
    "colab": {
      "provenance": [],
      "authorship_tag": "ABX9TyPi5B0gZmSnw1XChQ6McO81",
      "include_colab_link": true
    },
    "kernelspec": {
      "name": "python3",
      "display_name": "Python 3"
    },
    "language_info": {
      "name": "python"
    }
  },
  "cells": [
    {
      "cell_type": "markdown",
      "metadata": {
        "id": "view-in-github",
        "colab_type": "text"
      },
      "source": [
        "<a href=\"https://colab.research.google.com/github/Ankit12524/Data-Science-Assignments/blob/main/Programming__assignment_7.ipynb\" target=\"_parent\"><img src=\"https://colab.research.google.com/assets/colab-badge.svg\" alt=\"Open In Colab\"/></a>"
      ]
    },
    {
      "cell_type": "markdown",
      "source": [
        "1. Write a Python Program to Add Two Matrices?"
      ],
      "metadata": {
        "id": "NDG96nAXEz17"
      }
    },
    {
      "cell_type": "code",
      "execution_count": 26,
      "metadata": {
        "colab": {
          "base_uri": "https://localhost:8080/"
        },
        "id": "SFn8Uq0QEm3M",
        "outputId": "f64cf8f7-483d-48ab-a9ad-30cb8abe20f7"
      },
      "outputs": [
        {
          "output_type": "stream",
          "name": "stdout",
          "text": [
            "Sum of two matrices:\n",
            "[10, 10, 10]\n",
            "[10, 10, 10]\n",
            "[10, 10, 10]\n"
          ]
        }
      ],
      "source": [
        "def add_matrices(mat1, mat2):\n",
        "\n",
        "  result = [[mat1[i][j] + mat2[i][j] for j in range(len(mat1[0]))] for i in range(len(mat1))]\n",
        "\n",
        "  return result\n",
        "\n",
        "# Example\n",
        "\n",
        "matrix1 = [[1, 2, 3], [4, 5, 6], [7, 8, 9]]\n",
        "\n",
        "matrix2 = [[9, 8, 7], [6, 5, 4], [3, 2, 1]]\n",
        "\n",
        "print(\"Sum of two matrices:\")\n",
        "\n",
        "for row in add_matrices(matrix1, matrix2):\n",
        "\n",
        "  print(row)"
      ]
    },
    {
      "cell_type": "markdown",
      "source": [
        "Write a Python Program to Multiply Two Matrices?"
      ],
      "metadata": {
        "id": "RPCuZBiGFteq"
      }
    },
    {
      "cell_type": "code",
      "source": [
        "def multiply_matrices(mat1, mat2):\n",
        "\n",
        "  result = [[sum(mat1[i][k] * mat2[k][j] for k in range(len(mat2))) for j in range(len(mat2[0]))] for i in range(len(mat1))]\n",
        "\n",
        "  return result\n",
        "\n",
        "# Example\n",
        "\n",
        "matrix1 = [[1, 2], [3, 4]]\n",
        "\n",
        "matrix2 = [[5, 6], [7, 8]]\n",
        "\n",
        "print(\"Product of two matrices:\")\n",
        "\n",
        "for row in multiply_matrices(matrix1, matrix2):\n",
        "\n",
        "  print(row)"
      ],
      "metadata": {
        "colab": {
          "base_uri": "https://localhost:8080/"
        },
        "id": "qDe1sRnhGJP7",
        "outputId": "03d0fb3b-9160-4e22-8db9-4c9c47ddadde"
      },
      "execution_count": 25,
      "outputs": [
        {
          "output_type": "stream",
          "name": "stdout",
          "text": [
            "Product of two matrices:\n",
            "[19, 22]\n",
            "[43, 50]\n"
          ]
        }
      ]
    },
    {
      "cell_type": "markdown",
      "source": [
        "3. Write a Python Program to Transpose a Matrix?"
      ],
      "metadata": {
        "id": "CpF49zuMGA-W"
      }
    },
    {
      "cell_type": "code",
      "source": [
        "def transpose_matrix(matrix):\n",
        "\n",
        "  result = [[matrix[j][i] for j in range(len(matrix))] for i in range(len(matrix[0]))]\n",
        "\n",
        "  return result\n",
        "\n",
        "# Example usage\n",
        "\n",
        "matrix = [[1, 2, 3], [4, 5, 6], [7, 8, 9]]\n",
        "\n",
        "print(\"Original matrix:\")\n",
        "\n",
        "for row in matrix:\n",
        "\n",
        "  print(row)\n",
        "\n",
        "print(\"Transposed matrix:\")\n",
        "\n",
        "for row in transpose_matrix(matrix):\n",
        "\n",
        "  print(row)"
      ],
      "metadata": {
        "colab": {
          "base_uri": "https://localhost:8080/"
        },
        "id": "00bDoc7NGDKJ",
        "outputId": "8bedae3f-c8b6-476c-d5e0-cf37415c4889"
      },
      "execution_count": 24,
      "outputs": [
        {
          "output_type": "stream",
          "name": "stdout",
          "text": [
            "Original matrix:\n",
            "[1, 2, 3]\n",
            "[4, 5, 6]\n",
            "[7, 8, 9]\n",
            "Transposed matrix:\n",
            "[1, 4, 7]\n",
            "[2, 5, 8]\n",
            "[3, 6, 9]\n"
          ]
        }
      ]
    },
    {
      "cell_type": "markdown",
      "source": [
        "4. Write a Python Program to Sort Words in Alphabetic Order"
      ],
      "metadata": {
        "id": "3KgxcumoF3F6"
      }
    },
    {
      "cell_type": "code",
      "source": [
        "def sort_words_in_alphabetic_order(sentence):\n",
        "\n",
        "  words = sentence.split()\n",
        "\n",
        "  words.sort()\n",
        "\n",
        "  return ' '.join(words)\n",
        "\n",
        "sort_words_in_alphabetic_order(input('enter a sentence'))"
      ],
      "metadata": {
        "colab": {
          "base_uri": "https://localhost:8080/",
          "height": 53
        },
        "id": "F6DDHQ9zF3lp",
        "outputId": "f5a7e84d-d84f-4244-8d3f-8ed91c97678e"
      },
      "execution_count": 23,
      "outputs": [
        {
          "name": "stdout",
          "output_type": "stream",
          "text": [
            "enter a sentenceusdsabcaslk\n"
          ]
        },
        {
          "output_type": "execute_result",
          "data": {
            "text/plain": [
              "'usdsabcaslk'"
            ],
            "application/vnd.google.colaboratory.intrinsic+json": {
              "type": "string"
            }
          },
          "metadata": {},
          "execution_count": 23
        }
      ]
    },
    {
      "cell_type": "markdown",
      "source": [
        "5. Write a Python Program to Remove Punctuation From a String?"
      ],
      "metadata": {
        "id": "XTbvVmcFFwLC"
      }
    },
    {
      "cell_type": "code",
      "source": [
        "def remove_pun(strin):\n",
        "\n",
        "  punctuations = '''!()-[]{};:'\"\\,<>./?@#$%^&*_~'''\n",
        "\n",
        "  no_punct = \"\"\n",
        "\n",
        "  for char in strin:\n",
        "\n",
        "    if char not in punctuations:\n",
        "\n",
        "      no_punct = no_punct + char\n",
        "\n",
        "  return no_punct\n",
        "\n",
        "remove_pun(input('Enter a string wit punctuation'))"
      ],
      "metadata": {
        "colab": {
          "base_uri": "https://localhost:8080/",
          "height": 53
        },
        "id": "6djGethUFzR_",
        "outputId": "42ff26ad-9767-4e23-adf9-b8517c5352c1"
      },
      "execution_count": 21,
      "outputs": [
        {
          "name": "stdout",
          "output_type": "stream",
          "text": [
            "Enter a string wit punctuationabcda!.32423,asd;'][\n"
          ]
        },
        {
          "output_type": "execute_result",
          "data": {
            "text/plain": [
              "'abcda32423asd'"
            ],
            "application/vnd.google.colaboratory.intrinsic+json": {
              "type": "string"
            }
          },
          "metadata": {},
          "execution_count": 21
        }
      ]
    }
  ]
}