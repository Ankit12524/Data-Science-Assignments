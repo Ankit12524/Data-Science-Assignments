{
  "nbformat": 4,
  "nbformat_minor": 0,
  "metadata": {
    "colab": {
      "provenance": [],
      "authorship_tag": "ABX9TyMeTrnmouvQptSvWoQYp1r6",
      "include_colab_link": true
    },
    "kernelspec": {
      "name": "python3",
      "display_name": "Python 3"
    },
    "language_info": {
      "name": "python"
    }
  },
  "cells": [
    {
      "cell_type": "markdown",
      "metadata": {
        "id": "view-in-github",
        "colab_type": "text"
      },
      "source": [
        "<a href=\"https://colab.research.google.com/github/Ankit12524/Data-Science-Assignments/blob/main/Programming__assignment_7.ipynb\" target=\"_parent\"><img src=\"https://colab.research.google.com/assets/colab-badge.svg\" alt=\"Open In Colab\"/></a>"
      ]
    },
    {
      "cell_type": "markdown",
      "source": [
        "Write a Python Program to find sum of array?\n"
      ],
      "metadata": {
        "id": "NDG96nAXEz17"
      }
    },
    {
      "cell_type": "code",
      "execution_count": 27,
      "metadata": {
        "colab": {
          "base_uri": "https://localhost:8080/"
        },
        "id": "SFn8Uq0QEm3M",
        "outputId": "302ecd20-a99d-4194-93f6-b14d034d4f92"
      },
      "outputs": [
        {
          "output_type": "stream",
          "name": "stdout",
          "text": [
            "Sum of the array: 15\n"
          ]
        }
      ],
      "source": [
        "def array_sum(arr):\n",
        "\n",
        "  total = 0\n",
        "\n",
        "  for num in arr:\n",
        "\n",
        "   total += num\n",
        "\n",
        "  return total\n",
        "\n",
        "# Example\n",
        "\n",
        "array = [1, 2, 3, 4, 5]\n",
        "\n",
        "print(\"Sum of the array:\", array_sum(array))"
      ]
    },
    {
      "cell_type": "markdown",
      "source": [
        "Write a Python Program to find largest element in an array?"
      ],
      "metadata": {
        "id": "RPCuZBiGFteq"
      }
    },
    {
      "cell_type": "code",
      "source": [
        "def find_largest_element(arr):\n",
        "\n",
        "  largest = arr[0]\n",
        "\n",
        "  for num in arr:\n",
        "\n",
        "    if num > largest:\n",
        "\n",
        "      largest = num\n",
        "\n",
        "  return largest\n",
        "\n",
        "# Example\n",
        "\n",
        "array = [12, 45, 78, 23, 56]\n",
        "\n",
        "print(\"Largest element in the array:\", find_largest_element(array))"
      ],
      "metadata": {
        "colab": {
          "base_uri": "https://localhost:8080/"
        },
        "id": "qDe1sRnhGJP7",
        "outputId": "d99c5b94-73e7-4169-f403-159df6215594"
      },
      "execution_count": 28,
      "outputs": [
        {
          "output_type": "stream",
          "name": "stdout",
          "text": [
            "Largest element in the array: 78\n"
          ]
        }
      ]
    },
    {
      "cell_type": "markdown",
      "source": [
        "Write a Python Program for array rotation?"
      ],
      "metadata": {
        "id": "CpF49zuMGA-W"
      }
    },
    {
      "cell_type": "code",
      "source": [
        "def rotate_array(arr, k):\n",
        "\n",
        "  n = len(arr)\n",
        "\n",
        "  k = k % n\n",
        "\n",
        "  rotated_arr = arr[-k:] + arr[:-k]\n",
        "\n",
        "  return rotated_arr\n",
        "\n",
        "# Example usage\n",
        "\n",
        "array = [1, 2, 3, 4, 5]\n",
        "\n",
        "k = 2\n",
        "\n",
        "print(\"Rotated array:\", rotate_array(array, k))"
      ],
      "metadata": {
        "colab": {
          "base_uri": "https://localhost:8080/"
        },
        "id": "00bDoc7NGDKJ",
        "outputId": "a805254c-7ebf-47f3-c40c-9805b73ab79d"
      },
      "execution_count": 29,
      "outputs": [
        {
          "output_type": "stream",
          "name": "stdout",
          "text": [
            "Rotated array: [4, 5, 1, 2, 3]\n"
          ]
        }
      ]
    },
    {
      "cell_type": "markdown",
      "source": [
        "Write a Python Program to Split the array and add the first part to the end?"
      ],
      "metadata": {
        "id": "3KgxcumoF3F6"
      }
    },
    {
      "cell_type": "code",
      "source": [
        "def split_and_add(arr, k):\n",
        "\n",
        "  n = len(arr)\n",
        "\n",
        "  k = k % n\n",
        "\n",
        "  split_arr = arr[:k]\n",
        "\n",
        "  arr = arr[k:] + split_arr\n",
        "\n",
        "  return arr\n",
        "\n",
        "# Example\n",
        "\n",
        "array = [1, 2, 3, 4, 5]\n",
        "\n",
        "k = 2\n",
        "\n",
        "print(\"Array after splitting and adding:\", split_and_add(array, k))"
      ],
      "metadata": {
        "colab": {
          "base_uri": "https://localhost:8080/"
        },
        "id": "F6DDHQ9zF3lp",
        "outputId": "e53c693e-6d63-4f79-ff4d-238dcd7b1a04"
      },
      "execution_count": 30,
      "outputs": [
        {
          "output_type": "stream",
          "name": "stdout",
          "text": [
            "Array after splitting and adding: [3, 4, 5, 1, 2]\n"
          ]
        }
      ]
    },
    {
      "cell_type": "markdown",
      "source": [
        "Write a Python Program to check if given array is Monotonic"
      ],
      "metadata": {
        "id": "XTbvVmcFFwLC"
      }
    },
    {
      "cell_type": "code",
      "source": [
        "def is_monotonic(arr):\n",
        "\n",
        "  increasing = decreasing = True\n",
        "\n",
        "  for i in range(1, len(arr)):\n",
        "\n",
        "    if arr[i] > arr[i - 1]:\n",
        "\n",
        "      decreasing = False\n",
        "\n",
        "    elif arr[i] < arr[i - 1]:\n",
        "\n",
        "     increasing = False\n",
        "\n",
        "  return increasing or decreasing\n",
        "\n",
        "# Example usage\n",
        "\n",
        "array1 = [1, 2, 3, 4, 5]\n",
        "\n",
        "array2 = [5, 4, 3, 2, 1]\n",
        "\n",
        "print(\"Is array1 monotonic?\", is_monotonic(array1))\n",
        "\n",
        "print(\"Is array2 monotonic?\", is_monotonic(array2))"
      ],
      "metadata": {
        "colab": {
          "base_uri": "https://localhost:8080/"
        },
        "id": "6djGethUFzR_",
        "outputId": "2800ebdc-71b5-457a-ae1c-2996d07881e6"
      },
      "execution_count": 31,
      "outputs": [
        {
          "output_type": "stream",
          "name": "stdout",
          "text": [
            "Is array1 monotonic? True\n",
            "Is array2 monotonic? True\n"
          ]
        }
      ]
    }
  ]
}