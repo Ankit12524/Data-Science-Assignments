{
  "nbformat": 4,
  "nbformat_minor": 0,
  "metadata": {
    "colab": {
      "provenance": [],
      "authorship_tag": "ABX9TyMeTrnmouvQptSvWoQYp1r6",
      "include_colab_link": true
    },
    "kernelspec": {
      "name": "python3",
      "display_name": "Python 3"
    },
    "language_info": {
      "name": "python"
    }
  },
  "cells": [
    {
      "cell_type": "markdown",
      "metadata": {
        "id": "view-in-github",
        "colab_type": "text"
      },
      "source": [
        "<a href=\"https://colab.research.google.com/github/Ankit12524/Data-Science-Assignments/blob/main/Programming__assignment_7.ipynb\" target=\"_parent\"><img src=\"https://colab.research.google.com/assets/colab-badge.svg\" alt=\"Open In Colab\"/></a>"
      ]
    },
    {
      "cell_type": "markdown",
      "source": [
        "Write a Python Program to find sum of array?\n"
      ],
      "metadata": {
        "id": "NDG96nAXEz17"
      }
    },
    {
      "cell_type": "code",
      "execution_count": 12,
      "metadata": {
        "colab": {
          "base_uri": "https://localhost:8080/"
        },
        "id": "SFn8Uq0QEm3M",
        "outputId": "d60c2a15-3beb-40a1-9cec-a311afbaa5bd"
      },
      "outputs": [
        {
          "output_type": "stream",
          "name": "stdout",
          "text": [
            "Sum of the array: 15\n"
          ]
        }
      ],
      "source": [
        "def array_sum(arr):\n",
        "\n",
        "  total = 0\n",
        "\n",
        "  for num in arr:\n",
        "\n",
        "   total += num\n",
        "\n",
        "  return total\n",
        "\n",
        "# Example\n",
        "\n",
        "array = [1, 2, 3, 4, 5]\n",
        "\n",
        "print(\"Sum of the array:\", array_sum(array))"
      ]
    },
    {
      "cell_type": "markdown",
      "source": [
        "Write a Python Program to find largest element in an array?"
      ],
      "metadata": {
        "id": "RPCuZBiGFteq"
      }
    },
    {
      "cell_type": "code",
      "source": [
        "def find_largest_element(arr):\n",
        "\n",
        "  largest = arr[0]\n",
        "\n",
        "  for num in arr:\n",
        "\n",
        "    if num > largest:\n",
        "\n",
        "      largest = num\n",
        "\n",
        "  return largest\n",
        "\n",
        "# Example\n",
        "\n",
        "array = [12, 45, 78, 23, 56]\n",
        "\n",
        "print(\"Largest element in the array:\", find_largest_element(array))"
      ],
      "metadata": {
        "colab": {
          "base_uri": "https://localhost:8080/"
        },
        "id": "qDe1sRnhGJP7",
        "outputId": "d0e58e7d-5b1b-477c-8d64-63a573e4e2af"
      },
      "execution_count": 14,
      "outputs": [
        {
          "output_type": "stream",
          "name": "stdout",
          "text": [
            "Largest element in the array: 78\n"
          ]
        }
      ]
    },
    {
      "cell_type": "markdown",
      "source": [
        "Write a Python Program for array rotation?"
      ],
      "metadata": {
        "id": "CpF49zuMGA-W"
      }
    },
    {
      "cell_type": "code",
      "source": [
        "def rotate_array(arr, k):\n",
        "\n",
        "  n = len(arr)\n",
        "\n",
        "  k = k % n\n",
        "\n",
        "  rotated_arr = arr[-k:] + arr[:-k]\n",
        "\n",
        "  return rotated_arr\n",
        "\n",
        "# Example usage\n",
        "\n",
        "array = [1, 2, 3, 4, 5]\n",
        "\n",
        "k = 2\n",
        "\n",
        "print(\"Rotated array:\", rotate_array(array, k))"
      ],
      "metadata": {
        "colab": {
          "base_uri": "https://localhost:8080/"
        },
        "id": "00bDoc7NGDKJ",
        "outputId": "5e296149-0407-4755-a666-b2a7d347889d"
      },
      "execution_count": 15,
      "outputs": [
        {
          "output_type": "stream",
          "name": "stdout",
          "text": [
            "Rotated array: [4, 5, 1, 2, 3]\n"
          ]
        }
      ]
    },
    {
      "cell_type": "markdown",
      "source": [
        "Write a Python Program to Split the array and add the first part to the end?"
      ],
      "metadata": {
        "id": "3KgxcumoF3F6"
      }
    },
    {
      "cell_type": "code",
      "source": [
        "def split_and_add(arr, k):\n",
        "\n",
        "  n = len(arr)\n",
        "\n",
        "  k = k % n\n",
        "\n",
        "  split_arr = arr[:k]\n",
        "\n",
        "  arr = arr[k:] + split_arr\n",
        "\n",
        "  return arr\n",
        "\n",
        "# Example\n",
        "\n",
        "array = [1, 2, 3, 4, 5]\n",
        "\n",
        "k = 2\n",
        "\n",
        "print(\"Array after splitting and adding:\", split_and_add(array, k))"
      ],
      "metadata": {
        "colab": {
          "base_uri": "https://localhost:8080/"
        },
        "id": "F6DDHQ9zF3lp",
        "outputId": "9f4e37f8-e1f3-40fc-e751-1f4c9dcf78c6"
      },
      "execution_count": 16,
      "outputs": [
        {
          "output_type": "stream",
          "name": "stdout",
          "text": [
            "Array after splitting and adding: [3, 4, 5, 1, 2]\n"
          ]
        }
      ]
    },
    {
      "cell_type": "markdown",
      "source": [
        "Write a Python Program to check if given array is Monotonic"
      ],
      "metadata": {
        "id": "XTbvVmcFFwLC"
      }
    },
    {
      "cell_type": "code",
      "source": [
        "def is_monotonic(arr):\n",
        "\n",
        "  increasing = decreasing = True\n",
        "\n",
        "  for i in range(1, len(arr)):\n",
        "\n",
        "    if arr[i] > arr[i - 1]:\n",
        "\n",
        "      decreasing = False\n",
        "\n",
        "    elif arr[i] < arr[i - 1]:\n",
        "\n",
        "     increasing = False\n",
        "\n",
        "  return increasing or decreasing\n",
        "\n",
        "# Example usage\n",
        "\n",
        "array1 = [1, 2, 3, 4, 5]\n",
        "\n",
        "array2 = [5, 4, 3, 2, 1]\n",
        "\n",
        "print(\"Is array1 monotonic?\", is_monotonic(array1))\n",
        "\n",
        "print(\"Is array2 monotonic?\", is_monotonic(array2))"
      ],
      "metadata": {
        "colab": {
          "base_uri": "https://localhost:8080/"
        },
        "id": "6djGethUFzR_",
        "outputId": "724d949e-c126-426d-df74-3662ea3ac5b0"
      },
      "execution_count": 17,
      "outputs": [
        {
          "output_type": "stream",
          "name": "stdout",
          "text": [
            "Is array1 monotonic? True\n",
            "Is array2 monotonic? True\n"
          ]
        }
      ]
    }
  ]
}