{
  "nbformat": 4,
  "nbformat_minor": 0,
  "metadata": {
    "colab": {
      "provenance": [],
      "authorship_tag": "ABX9TyMpP95X6Eo0Do97S7m180k1",
      "include_colab_link": true
    },
    "kernelspec": {
      "name": "python3",
      "display_name": "Python 3"
    },
    "language_info": {
      "name": "python"
    }
  },
  "cells": [
    {
      "cell_type": "markdown",
      "metadata": {
        "id": "view-in-github",
        "colab_type": "text"
      },
      "source": [
        "<a href=\"https://colab.research.google.com/github/Ankit12524/Data-Science-Assignments/blob/main/Programming_assignment_25.ipynb\" target=\"_parent\"><img src=\"https://colab.research.google.com/assets/colab-badge.svg\" alt=\"Open In Colab\"/></a>"
      ]
    },
    {
      "cell_type": "markdown",
      "source": [
        "Question1\n",
        "\n",
        "Create a function that takes three integer arguments (a, b, c) and returns the amount of integers which are of equal value.\n",
        "\n",
        "Examples\n",
        "\n",
        "equal(3, 4, 3) ➞ 2\n",
        "\n",
        "equal(1, 1, 1) ➞ 3\n",
        "\n",
        "equal(3, 4, 1) ➞ 0\n",
        "\n",
        "Notes\n",
        "\n",
        "Your function must return 0, 2 or 3.\n",
        "\n",
        "Ans.\n",
        "\n"
      ],
      "metadata": {
        "id": "kRnSUNK38ZUD"
      }
    },
    {
      "cell_type": "code",
      "source": [
        "def equal(a, b, c):\n",
        "  count = 0\n",
        "  if a == b == c:\n",
        "    return 3\n",
        "  elif a == c or b == c or b==a:\n",
        "    return 2\n",
        "  else:\n",
        "    return 0\n",
        "\n",
        "equal(3,4,3)"
      ],
      "metadata": {
        "id": "lMmTVvdm0rQc",
        "colab": {
          "base_uri": "https://localhost:8080/"
        },
        "outputId": "54db040d-4d28-4eb6-8a57-6f38d46c047f"
      },
      "execution_count": 42,
      "outputs": [
        {
          "output_type": "execute_result",
          "data": {
            "text/plain": [
              "2"
            ]
          },
          "metadata": {},
          "execution_count": 42
        }
      ]
    },
    {
      "cell_type": "markdown",
      "source": [
        "Question2\n",
        "\n",
        "Write a function that converts a dictionary into a list of keys-values tuples.\n",
        "\n",
        "Examples\n",
        "\n",
        "dict_to_list({\n",
        "\n",
        "\"D\": 1,\n",
        "\n",
        "\"B\": 2,\n",
        "\n",
        "\"C\": 3\n",
        "\n",
        "}) ➞ [(\"B\", 2), (\"C\", 3), (\"D\", 1)]\n",
        "\n",
        "dict_to_list({\n",
        "\n",
        "\"likes\": 2,\n",
        "\n",
        "\"dislikes\": 3,\n",
        "\n",
        "\"followers\": 10\n",
        "\n",
        "}) ➞ [(\"dislikes\", 3), (\"followers\", 10), (\"likes\", 2)]\n",
        "\n",
        "Notes\n",
        "\n",
        "Return the elements in the list in alphabetical order.\n",
        "\n",
        "Ans.\n",
        "\n"
      ],
      "metadata": {
        "id": "L9yRAUov8f8B"
      }
    },
    {
      "cell_type": "code",
      "source": [
        "def dict_to_list(d):\n",
        "  return sorted(d.items())\n",
        "\n",
        "dict_to_list({\n",
        "\n",
        "\"D\": 1,\n",
        "\n",
        "\"B\": 2,\n",
        "\n",
        "\"C\": 3\n",
        "\n",
        "})"
      ],
      "metadata": {
        "id": "5vElVQja0ua0",
        "colab": {
          "base_uri": "https://localhost:8080/"
        },
        "outputId": "09c607bb-3b2a-4fb1-ca0d-dbda1cae9014"
      },
      "execution_count": 27,
      "outputs": [
        {
          "output_type": "execute_result",
          "data": {
            "text/plain": [
              "[('B', 2), ('C', 3), ('D', 1)]"
            ]
          },
          "metadata": {},
          "execution_count": 27
        }
      ]
    },
    {
      "cell_type": "markdown",
      "source": [
        "Question3\n",
        "\n",
        "Write a function that creates a dictionary with each (key, value) pair being the (lower case, upper case) versions of a letter, respectively.\n",
        "\n",
        "Examples\n",
        "\n",
        "mapping([\"p\", \"s\"]) ➞ { \"p\": \"P\", \"s\": \"S\" }\n",
        "\n",
        "mapping([\"a\", \"b\", \"c\"]) ➞ { \"a\": \"A\", \"b\": \"B\", \"c\": \"C\" }\n",
        "\n",
        "mapping([\"a\", \"v\", \"y\", \"z\"]) ➞ { \"a\": \"A\", \"v\": \"V\", \"y\": \"Y\", \"z\": \"Z\" }\n",
        "\n",
        "Notes\n",
        "\n",
        "All of the letters in the input list will always be lowercase.\n",
        "\n",
        "Ans.\n",
        "\n"
      ],
      "metadata": {
        "id": "9vg_GLg69S1a"
      }
    },
    {
      "cell_type": "code",
      "source": [
        "def mapping(letters):\n",
        "\n",
        "  return {letter: letter.upper() for letter in letters}\n",
        "\n",
        "mapping([\"p\", \"s\"])"
      ],
      "metadata": {
        "colab": {
          "base_uri": "https://localhost:8080/"
        },
        "id": "8oYRkziP9ach",
        "outputId": "c5884530-e253-4361-d2dd-675fb7295841"
      },
      "execution_count": 31,
      "outputs": [
        {
          "output_type": "execute_result",
          "data": {
            "text/plain": [
              "{'p': 'P', 's': 'S'}"
            ]
          },
          "metadata": {},
          "execution_count": 31
        }
      ]
    },
    {
      "cell_type": "markdown",
      "source": [
        "Question4\n",
        "\n",
        "Write a function, that replaces all vowels in a string with a specified vowel.\n",
        "\n",
        "Examples\n",
        "\n",
        "vow_replace(\"apples and bananas\", \"u\") ➞ \"upplus und bununus\"\n",
        "\n",
        "vow_replace(\"cheese casserole\", \"o\") ➞ \"chooso cossorolo\"\n",
        "\n",
        "vow_replace(\"stuffed jalapeno poppers\", \"e\") ➞ \"steffed jelepene peppers\"\n",
        "\n",
        "Notes\n",
        "\n",
        "All words will be lowercase. Y is not considered a vowel.\n",
        "\n",
        "\n"
      ],
      "metadata": {
        "id": "zojdUbBH9gfJ"
      }
    },
    {
      "cell_type": "code",
      "source": [
        "\n",
        "def vow_replace(string, vowel):\n",
        "\n",
        "  return ''.join(vowel if char in 'aeiouAEIOU' else char for char in string)\n",
        "\n",
        "vow_replace(\"apples and bananas\", \"u\")"
      ],
      "metadata": {
        "colab": {
          "base_uri": "https://localhost:8080/",
          "height": 36
        },
        "id": "vLNivz969jJl",
        "outputId": "97419efb-c5e5-4e3f-8ad4-ee2aeb9687de"
      },
      "execution_count": 30,
      "outputs": [
        {
          "output_type": "execute_result",
          "data": {
            "text/plain": [
              "'upplus und bununus'"
            ],
            "application/vnd.google.colaboratory.intrinsic+json": {
              "type": "string"
            }
          },
          "metadata": {},
          "execution_count": 30
        }
      ]
    },
    {
      "cell_type": "markdown",
      "source": [
        "Question5\n",
        "\n",
        "Create a function that takes a string as input and capitalizes a letter if its ASCII code is even and returns its lower case version if its ASCII code is odd.\n",
        "\n",
        "Examples\n",
        "\n",
        "ascii_capitalize(\"to be or not to be!\") ➞ \"To Be oR NoT To Be!\"\n",
        "\n",
        "ascii_capitalize(\"THE LITTLE MERMAID\") ➞ \"THe LiTTLe meRmaiD\"\n",
        "\n",
        "ascii_capitalize(\"Oh what a beautiful morning.\") ➞ \"oH wHaT a BeauTiFuL moRNiNg.\"\n",
        "\n",
        "Ans.\n",
        "\n",
        ""
      ],
      "metadata": {
        "id": "89SgVZa4-Aan"
      }
    },
    {
      "cell_type": "code",
      "source": [
        "def ascii_capitalize(string):\n",
        "\n",
        "  result = \"\"\n",
        "\n",
        "  for char in string:\n",
        "\n",
        "    if ord(char) % 2 == 0:\n",
        "\n",
        "      result += char.upper()\n",
        "\n",
        "    else:\n",
        "\n",
        "      result += char.lower()\n",
        "\n",
        "  return result\n",
        "\n",
        "ascii_capitalize(\"to be or not to be!\")"
      ],
      "metadata": {
        "colab": {
          "base_uri": "https://localhost:8080/",
          "height": 36
        },
        "id": "DHFQZJdz006o",
        "outputId": "fc1a1cde-2627-4f23-e111-4f853dd3bdcb"
      },
      "execution_count": 29,
      "outputs": [
        {
          "output_type": "execute_result",
          "data": {
            "text/plain": [
              "'To Be oR NoT To Be!'"
            ],
            "application/vnd.google.colaboratory.intrinsic+json": {
              "type": "string"
            }
          },
          "metadata": {},
          "execution_count": 29
        }
      ]
    }
  ]
}