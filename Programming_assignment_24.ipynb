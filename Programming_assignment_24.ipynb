{
  "nbformat": 4,
  "nbformat_minor": 0,
  "metadata": {
    "colab": {
      "provenance": [],
      "authorship_tag": "ABX9TyPkKWyzkAZrPdhB19NDzRVQ",
      "include_colab_link": true
    },
    "kernelspec": {
      "name": "python3",
      "display_name": "Python 3"
    },
    "language_info": {
      "name": "python"
    }
  },
  "cells": [
    {
      "cell_type": "markdown",
      "metadata": {
        "id": "view-in-github",
        "colab_type": "text"
      },
      "source": [
        "<a href=\"https://colab.research.google.com/github/Ankit12524/Data-Science-Assignments/blob/main/Programming_assignment_24.ipynb\" target=\"_parent\"><img src=\"https://colab.research.google.com/assets/colab-badge.svg\" alt=\"Open In Colab\"/></a>"
      ]
    },
    {
      "cell_type": "markdown",
      "source": [
        "Question1\n",
        "\n",
        "Create a function that takes an integer and returns a list from 1 to the given number, where:\n",
        "\n",
        "1. If the number can be divided evenly by 4, amplify it by 10 (i.e. return 10 times the number).\n",
        "\n",
        "2. If the number cannot be divided evenly by 4, simply return the number.\n",
        "\n",
        "Examples\n",
        "\n",
        "amplify(4) ➞ [1, 2, 3, 40]\n",
        "\n",
        "amplify(3) ➞ [1, 2, 3]\n",
        "\n",
        "amplify(25) ➞ [1, 2, 3, 40, 5, 6, 7, 80, 9, 10, 11, 120, 13, 14, 15, 160, 17, 18, 19, 200, 21, 22, 23, 240, 25]\n",
        "\n",
        "Notes\n",
        "\n",
        "● The given integer will always be equal to or greater than 1.\n",
        "\n",
        "● Include the number (see example above).\n",
        "\n",
        "● To perform this problem with its intended purpose, try doing it with list comprehensions. If that's too difficult, just solve the challenge any way you can.\n",
        "\n",
        "Ans.\n",
        "\n"
      ],
      "metadata": {
        "id": "kRnSUNK38ZUD"
      }
    },
    {
      "cell_type": "code",
      "source": [
        "def amplify(num):\n",
        "\n",
        "  return [x * 10 if x % 4 == 0 else x for x in range(1, num + 1)]\n",
        "\n",
        "amplify(4)"
      ],
      "metadata": {
        "id": "lMmTVvdm0rQc",
        "colab": {
          "base_uri": "https://localhost:8080/"
        },
        "outputId": "30c12fda-9ea6-4647-c5b6-edf1113464f0"
      },
      "execution_count": 14,
      "outputs": [
        {
          "output_type": "execute_result",
          "data": {
            "text/plain": [
              "[1, 2, 3, 40]"
            ]
          },
          "metadata": {},
          "execution_count": 14
        }
      ]
    },
    {
      "cell_type": "markdown",
      "source": [
        "Question2\n",
        "\n",
        "Create a function that takes a list of numbers and return the number that's unique.\n",
        "\n",
        "Examples\n",
        "\n",
        "unique([3, 3, 3, 7, 3, 3]) ➞ 7\n",
        "\n",
        "unique([0, 0, 0.77, 0, 0]) ➞ 0.77\n",
        "\n",
        "unique([0, 1, 1, 1, 1, 1, 1, 1]) ➞ 0\n",
        "\n",
        "Notes\n",
        "\n",
        "Test cases will always have exactly one unique number while all others are the same.\n",
        "\n",
        "Ans,\n",
        "\n"
      ],
      "metadata": {
        "id": "L9yRAUov8f8B"
      }
    },
    {
      "cell_type": "code",
      "source": [
        "def unique(lst):\n",
        "\n",
        "  for num in lst:\n",
        "\n",
        "    if lst.count(num) == 1:\n",
        "\n",
        "       return num\n",
        "\n",
        "unique([3,3,3,7,3,3])"
      ],
      "metadata": {
        "id": "5vElVQja0ua0",
        "colab": {
          "base_uri": "https://localhost:8080/"
        },
        "outputId": "e9e062cc-4766-41ea-d1b1-e5e76fbcc9ea"
      },
      "execution_count": 15,
      "outputs": [
        {
          "output_type": "execute_result",
          "data": {
            "text/plain": [
              "7"
            ]
          },
          "metadata": {},
          "execution_count": 15
        }
      ]
    },
    {
      "cell_type": "markdown",
      "source": [
        "Question3\n",
        "\n",
        "Your task is to create a Circle constructor that creates a circle with a radius provided by an argument. The circles constructed must have two getters getArea() (PIr^2) and getPerimeter() (2PI*r) which give both respective areas and perimeter (circumference).\n",
        "\n",
        "For help with this class, I have provided you with a Rectangle constructor which you can use as a base example.\n",
        "\n",
        "Examples\n",
        "\n",
        "circy = Circle(11)\n",
        "\n",
        "circy.getArea()\n",
        "\n",
        "# Should return 380.132711084365\n",
        "\n",
        "circy = Circle(4.44)\n",
        "\n",
        "circy.getPerimeter()\n",
        "\n",
        "# Should return 27.897342763877365\n",
        "\n",
        "Notes\n",
        "\n",
        "Round results up to the nearest integer.\n",
        "\n",
        "Ans.\n",
        "\n"
      ],
      "metadata": {
        "id": "9vg_GLg69S1a"
      }
    },
    {
      "cell_type": "code",
      "source": [
        "class Circle:\n",
        "\n",
        "  def __init__(self, radius):\n",
        "\n",
        "    self.radius = radius\n",
        "\n",
        "  def getArea(self):\n",
        "\n",
        "    return round(3.14159 * self.radius ** 2)\n",
        "\n",
        "  def getPerimeter(self):\n",
        "\n",
        "   return round(2 * 3.14159 * self.radius)\n",
        "\n",
        "circy = Circle(11)\n",
        "\n",
        "print(circy.getArea())\n",
        "\n",
        "circy = Circle(4.44)\n",
        "\n",
        "circy.getPerimeter()\n"
      ],
      "metadata": {
        "colab": {
          "base_uri": "https://localhost:8080/"
        },
        "id": "8oYRkziP9ach",
        "outputId": "adb9141b-5645-47cc-f64d-7d1b0671dca6"
      },
      "execution_count": 17,
      "outputs": [
        {
          "output_type": "stream",
          "name": "stdout",
          "text": [
            "380\n"
          ]
        },
        {
          "output_type": "execute_result",
          "data": {
            "text/plain": [
              "28"
            ]
          },
          "metadata": {},
          "execution_count": 17
        }
      ]
    },
    {
      "cell_type": "markdown",
      "source": [
        "Question4\n",
        "\n",
        "Create a function that takes a list of strings and return a list, sorted from shortest to longest.\n",
        "\n",
        "Examples\n",
        "\n",
        "sort_by_length([\"Google\", \"Apple\", \"Microsoft\"])\n",
        "\n",
        "➞ [\"Apple\", \"Google\", \"Microsoft\"]\n",
        "\n",
        "sort_by_length([\"Leonardo\", \"Michelangelo\", \"Raphael\", \"Donatello\"])\n",
        "\n",
        "➞ [\"Raphael\", \"Leonardo\", \"Donatello\", \"Michelangelo\"]\n",
        "\n",
        "sort_by_length([\"Turing\", \"Einstein\", \"Jung\"])\n",
        "\n",
        "➞ [\"Jung\", \"Turing\", \"Einstein\"]\n",
        "\n",
        "Notes\n",
        "\n",
        "All test cases contain lists with strings of different lengths, so you won't have to deal with multiple strings of the same length.\n",
        "\n",
        "Ans.\n"
      ],
      "metadata": {
        "id": "zojdUbBH9gfJ"
      }
    },
    {
      "cell_type": "code",
      "source": [
        "\n",
        "def sort_by_length(lst):\n",
        "  return sorted(lst, key=len)\n",
        "sort_by_length([\"Leonardo\", \"Michelangelo\", \"Raphael\", \"Donatello\"])\n"
      ],
      "metadata": {
        "colab": {
          "base_uri": "https://localhost:8080/"
        },
        "id": "vLNivz969jJl",
        "outputId": "0e9287af-dec9-42f5-82dc-63fe3f1d3680"
      },
      "execution_count": 18,
      "outputs": [
        {
          "output_type": "execute_result",
          "data": {
            "text/plain": [
              "['Raphael', 'Leonardo', 'Donatello', 'Michelangelo']"
            ]
          },
          "metadata": {},
          "execution_count": 18
        }
      ]
    },
    {
      "cell_type": "markdown",
      "source": [
        "Question5\n",
        "\n",
        "Create a function that validates whether three given integers form a Pythagorean triplet. The sum of the squares of the two smallest integers must equal the square of the largest number to be validated.\n",
        "\n",
        "Examples\n",
        "\n",
        "is_triplet(3, 4, 5) ➞ True\n",
        "\n",
        "# 3² + 4² = 25\n",
        "\n",
        "# 5² = 25\n",
        "\n",
        "is_triplet(13, 5, 12) ➞ True\n",
        "\n",
        "# 5² + 12² = 169\n",
        "\n",
        "# 13² = 169\n",
        "\n",
        "is_triplet(1, 2, 3) ➞ False\n",
        "\n",
        "# 1² + 2² = 5\n",
        "\n",
        "# 3² = 9\n",
        "\n",
        "Notes\n",
        "\n",
        "Numbers may not be given in a sorted order.\n",
        "\n",
        "Ans.\n",
        "\n"
      ],
      "metadata": {
        "id": "89SgVZa4-Aan"
      }
    },
    {
      "cell_type": "code",
      "source": [
        "def is_triplet(a, b, c):\n",
        "\n",
        "  sides = [a, b, c]\n",
        "\n",
        "  sides.sort()\n",
        "\n",
        "  return sides[0] ** 2 + sides[1] ** 2 == sides[2]**2\n",
        "\n",
        "is_triplet(13, 5, 12)"
      ],
      "metadata": {
        "colab": {
          "base_uri": "https://localhost:8080/"
        },
        "id": "DHFQZJdz006o",
        "outputId": "d4fb7360-3f34-4799-dd3e-8983b011f5b0"
      },
      "execution_count": 22,
      "outputs": [
        {
          "output_type": "execute_result",
          "data": {
            "text/plain": [
              "True"
            ]
          },
          "metadata": {},
          "execution_count": 22
        }
      ]
    }
  ]
}