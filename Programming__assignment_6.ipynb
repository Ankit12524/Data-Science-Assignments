{
  "nbformat": 4,
  "nbformat_minor": 0,
  "metadata": {
    "colab": {
      "provenance": [],
      "authorship_tag": "ABX9TyO/1JiLvwNLglq/6VhuheCA",
      "include_colab_link": true
    },
    "kernelspec": {
      "name": "python3",
      "display_name": "Python 3"
    },
    "language_info": {
      "name": "python"
    }
  },
  "cells": [
    {
      "cell_type": "markdown",
      "metadata": {
        "id": "view-in-github",
        "colab_type": "text"
      },
      "source": [
        "<a href=\"https://colab.research.google.com/github/Ankit12524/Data-Science-Assignments/blob/main/Programming__assignment_6.ipynb\" target=\"_parent\"><img src=\"https://colab.research.google.com/assets/colab-badge.svg\" alt=\"Open In Colab\"/></a>"
      ]
    },
    {
      "cell_type": "markdown",
      "source": [
        "1. Write a Python Program to Display Fibonacci Sequence Using Recursion?\n",
        "\n",
        "\n",
        "\n"
      ],
      "metadata": {
        "id": "NDG96nAXEz17"
      }
    },
    {
      "cell_type": "code",
      "execution_count": 3,
      "metadata": {
        "colab": {
          "base_uri": "https://localhost:8080/"
        },
        "id": "SFn8Uq0QEm3M",
        "outputId": "fffffd5d-2104-4c81-bd31-37535d6df73a"
      },
      "outputs": [
        {
          "output_type": "stream",
          "name": "stdout",
          "text": [
            "Enter the number of terms in the Fibonacci sequence: 9\n",
            "Fibonacci Sequence: [0, 1, 1, 2, 3, 5, 8, 13, 21]\n"
          ]
        }
      ],
      "source": [
        "def fibonacci_recursive(n):\n",
        "\n",
        "      if n <= 0:\n",
        "\n",
        "        return []\n",
        "\n",
        "      elif n == 1:\n",
        "\n",
        "        return [0]\n",
        "\n",
        "      elif n == 2:\n",
        "\n",
        "        return [0, 1]\n",
        "\n",
        "      else:\n",
        "\n",
        "        fib_sequence = fibonacci_recursive(n - 1)\n",
        "\n",
        "        fib_sequence.append(fib_sequence[-1] + fib_sequence[-2])\n",
        "\n",
        "        return fib_sequence\n",
        "\n",
        "# Get input from the user\n",
        "\n",
        "num_terms = int(input(\"Enter the number of terms in the Fibonacci sequence: \"))\n",
        "\n",
        "# Display the Fibonacci sequence\n",
        "\n",
        "fibonacci_sequence = fibonacci_recursive(num_terms)\n",
        "\n",
        "print(\"Fibonacci Sequence:\", fibonacci_sequence)\n"
      ]
    },
    {
      "cell_type": "markdown",
      "source": [
        "2. Write a Python Program to Find Factorial of Number Using Recursion?\n",
        "\n",
        "\n",
        "\n",
        "\n",
        "\n",
        "\n"
      ],
      "metadata": {
        "id": "RPCuZBiGFteq"
      }
    },
    {
      "cell_type": "code",
      "source": [
        "def factorial(n):\n",
        "\n",
        "    if n == 0 or n == 1:\n",
        "\n",
        "      return 1\n",
        "\n",
        "    else:\n",
        "\n",
        "      return n * factorial(n - 1)\n",
        "\n",
        "num = int(input(\"Enter a number: \"))\n",
        "\n",
        "if num < 0:\n",
        "\n",
        "  print(\"Factorial is not defined for negative numbers.\")\n",
        "\n",
        "else:\n",
        "\n",
        "  print(f\"The factorial of {num} is: {factorial(num)}\")\n"
      ],
      "metadata": {
        "colab": {
          "base_uri": "https://localhost:8080/"
        },
        "id": "qDe1sRnhGJP7",
        "outputId": "c746e40d-4b6e-4a4a-e7bb-0e22c037bc18"
      },
      "execution_count": 5,
      "outputs": [
        {
          "output_type": "stream",
          "name": "stdout",
          "text": [
            "Enter a number: 6\n",
            "The factorial of 6 is: 720\n"
          ]
        }
      ]
    },
    {
      "cell_type": "markdown",
      "source": [
        "3. Write a Python Program to calculate your Body Mass Index?\n",
        "\n"
      ],
      "metadata": {
        "id": "CpF49zuMGA-W"
      }
    },
    {
      "cell_type": "code",
      "source": [
        "\n",
        "def calculate_bmi(weight, height):\n",
        "\n",
        "  return weight / (height * height)\n",
        "\n",
        "weight = float(input(\"Enter your weight in kilograms: \"))\n",
        "\n",
        "height = float(input(\"Enter your height in meters: \"))\n",
        "\n",
        "bmi = calculate_bmi(weight, height)\n",
        "\n",
        "print(f\"Your Body Mass Index (BMI) is: {bmi:.2f}\")"
      ],
      "metadata": {
        "colab": {
          "base_uri": "https://localhost:8080/"
        },
        "id": "00bDoc7NGDKJ",
        "outputId": "f0bba86f-ead9-41ce-9c4e-a4339f8db262"
      },
      "execution_count": 7,
      "outputs": [
        {
          "output_type": "stream",
          "name": "stdout",
          "text": [
            "Enter your weight in kilograms: 52\n",
            "Enter your height in meters: 5\n",
            "Your Body Mass Index (BMI) is: 2.08\n"
          ]
        }
      ]
    },
    {
      "cell_type": "markdown",
      "source": [
        "4. Write a Python Program to calculate the natural logarithm of any number?"
      ],
      "metadata": {
        "id": "3KgxcumoF3F6"
      }
    },
    {
      "cell_type": "code",
      "source": [
        "\n",
        "\n",
        "import math\n",
        "\n",
        "num = float(input(\"Enter a number: \"))\n",
        "\n",
        "if num <= 0:\n",
        "\n",
        "  print(\"Natural logarithm is only defined for positive numbers.\")\n",
        "\n",
        "else:\n",
        "\n",
        "  natural_log = math.log(num)\n",
        "\n",
        "print(f\"The natural logarithm of {num} is: {natural_log:.4f}\")"
      ],
      "metadata": {
        "colab": {
          "base_uri": "https://localhost:8080/"
        },
        "id": "F6DDHQ9zF3lp",
        "outputId": "4e364cf9-529b-4789-cc54-241ac2fe1cd2"
      },
      "execution_count": 10,
      "outputs": [
        {
          "output_type": "stream",
          "name": "stdout",
          "text": [
            "Enter a number: 100\n",
            "The natural logarithm of 100.0 is: 4.6052\n"
          ]
        }
      ]
    },
    {
      "cell_type": "markdown",
      "source": [
        "5. Write a Python Program for cube sum of first n natural numbers?\n",
        "\n"
      ],
      "metadata": {
        "id": "XTbvVmcFFwLC"
      }
    },
    {
      "cell_type": "code",
      "source": [
        "def cube_sum(n):\n",
        "\n",
        "    return sum(i**3 for i in range(1, n+1))\n",
        "\n",
        "num = int(input(\"Enter a number (n): \"))\n",
        "\n",
        "if num < 0:\n",
        "\n",
        "  print(\"Please enter a positive number.\")\n",
        "\n",
        "else:\n",
        "\n",
        "  result = cube_sum(num)\n",
        "\n",
        "print(f\"The cube sum of first {num} natural numbers is: {result}\")"
      ],
      "metadata": {
        "colab": {
          "base_uri": "https://localhost:8080/"
        },
        "id": "6djGethUFzR_",
        "outputId": "86f42398-47e3-4042-8614-4119432e1584"
      },
      "execution_count": 11,
      "outputs": [
        {
          "output_type": "stream",
          "name": "stdout",
          "text": [
            "Enter a number (n): 5\n",
            "The cube sum of first 5 natural numbers is: 225\n"
          ]
        }
      ]
    }
  ]
}