{
  "nbformat": 4,
  "nbformat_minor": 0,
  "metadata": {
    "colab": {
      "provenance": [],
      "authorship_tag": "ABX9TyOIUD2c2EnL63T3fl/Twjmx",
      "include_colab_link": true
    },
    "kernelspec": {
      "name": "python3",
      "display_name": "Python 3"
    },
    "language_info": {
      "name": "python"
    }
  },
  "cells": [
    {
      "cell_type": "markdown",
      "metadata": {
        "id": "view-in-github",
        "colab_type": "text"
      },
      "source": [
        "<a href=\"https://colab.research.google.com/github/Ankit12524/Data-Science-Assignments/blob/main/Programming_assignment_14.ipynb\" target=\"_parent\"><img src=\"https://colab.research.google.com/assets/colab-badge.svg\" alt=\"Open In Colab\"/></a>"
      ]
    },
    {
      "cell_type": "markdown",
      "source": [
        "Define a class with a generator which can iterate the numbers, which are divisible by 7, between a given range 0 and n."
      ],
      "metadata": {
        "id": "JF3JQsGMxf5x"
      }
    },
    {
      "cell_type": "code",
      "source": [
        "class numgen:\n",
        "  def __init__(self,n):\n",
        "    self.n = n\n",
        "\n",
        "  def divby7(self):\n",
        "    for x in range(self.n):\n",
        "      if x%7==0:\n",
        "        yield x\n",
        "\n",
        "gen1 = numgen(100)\n",
        "for x in gen1.divby7():\n",
        "  print(x)\n"
      ],
      "metadata": {
        "colab": {
          "base_uri": "https://localhost:8080/"
        },
        "id": "34U7rbXtxfYs",
        "outputId": "c3791d14-731e-4611-9b57-9c7eff7ec51a"
      },
      "execution_count": 15,
      "outputs": [
        {
          "output_type": "stream",
          "name": "stdout",
          "text": [
            "0\n",
            "7\n",
            "14\n",
            "21\n",
            "28\n",
            "35\n",
            "42\n",
            "49\n",
            "56\n",
            "63\n",
            "70\n",
            "77\n",
            "84\n",
            "91\n",
            "98\n"
          ]
        }
      ]
    },
    {
      "cell_type": "markdown",
      "source": [
        "Question 2:\n",
        "Write a program to compute the frequency of the words from the input. The output should output after sorting the key alphanumerically.\n",
        "\n",
        "\n",
        "Suppose the following input is supplied to the program:\n",
        "\n",
        "\n",
        "New to Python or choosing between Python 2 and Python 3? Read Python 2 or Python 3.\n",
        "\n",
        "\n",
        "Then, the output should be:\n",
        "\n",
        "\n",
        "2:2\n",
        "\n",
        "\n",
        "3.:1\n",
        "\n",
        "\n",
        "3?:1\n",
        "\n",
        "\n",
        "New:1\n",
        "\n",
        "\n",
        "Python:5\n",
        "\n",
        "\n",
        "Read:1\n",
        "\n",
        "\n",
        "and:1\n",
        "\n",
        "\n",
        "between:1\n",
        "\n",
        "\n",
        "choosing:1\n",
        "\n",
        "\n",
        "or:2\n",
        "\n",
        "to:1\n"
      ],
      "metadata": {
        "id": "tSBUAUGSxoWe"
      }
    },
    {
      "cell_type": "code",
      "source": [
        "inp = input().split()\n",
        "\n",
        "unq = []\n",
        "\n",
        "for x in inp:\n",
        "  if x not in unq:\n",
        "    unq.append(x)\n",
        "\n",
        "unq.sort()\n",
        "\n",
        "for x in unq:\n",
        "  print(x,':',unq.count(x))\n"
      ],
      "metadata": {
        "colab": {
          "base_uri": "https://localhost:8080/"
        },
        "id": "7uuBo2qzxrzH",
        "outputId": "af28f7bb-3d87-4623-b379-1ceb3c2ffe94"
      },
      "execution_count": 16,
      "outputs": [
        {
          "output_type": "stream",
          "name": "stdout",
          "text": [
            "New to Python or choosing between Python 2 and Python 3? Read Python 2 or Python 3.\n",
            "2 : 1\n",
            "3. : 1\n",
            "3? : 1\n",
            "New : 1\n",
            "Python : 1\n",
            "Read : 1\n",
            "and : 1\n",
            "between : 1\n",
            "choosing : 1\n",
            "or : 1\n",
            "to : 1\n"
          ]
        }
      ]
    },
    {
      "cell_type": "markdown",
      "source": [
        "\n",
        "Define a class Person and its two child classes: Male and Female. All classes have a method \"getGender\" which can print \"Male\" for Male class and \"Female\" for Female class.\n"
      ],
      "metadata": {
        "id": "UnahbwZyxt_V"
      }
    },
    {
      "cell_type": "code",
      "source": [
        "class Person:\n",
        "    def get_gender(self):\n",
        "        return \"Unknown\"\n",
        "\n",
        "class Male(Person):\n",
        "    def get_gender(self):\n",
        "        return \"Male\"\n",
        "\n",
        "class Female(Person):\n",
        "    def get_gender(self):\n",
        "        return \"Female\"\n"
      ],
      "metadata": {
        "id": "usvxADLQyJVb"
      },
      "execution_count": 17,
      "outputs": []
    },
    {
      "cell_type": "markdown",
      "source": [
        "Please write a program to generate all sentences where subject is in [\"I\", \"You\"] and verb is in [\"Play\", \"Love\"] and the object is in [\"Hockey\",\"Football\"]."
      ],
      "metadata": {
        "id": "vOH8NKHHyMPX"
      }
    },
    {
      "cell_type": "code",
      "source": [
        "sub = [\"I\", \"You\"]\n",
        "verb =  [\"Play\", \"Love\"]\n",
        "obj = [\"Hockey\",\"Football\"]\n",
        "\n",
        "for x in sub:\n",
        "  for y in verb:\n",
        "    for z in obj:\n",
        "      print(x,y,z,'.')\n"
      ],
      "metadata": {
        "colab": {
          "base_uri": "https://localhost:8080/"
        },
        "id": "zS3UwiDlx0FT",
        "outputId": "72e83a80-6b9f-4f39-b730-ef4ad17142dc"
      },
      "execution_count": 18,
      "outputs": [
        {
          "output_type": "stream",
          "name": "stdout",
          "text": [
            "I Play Hockey .\n",
            "I Play Football .\n",
            "I Love Hockey .\n",
            "I Love Football .\n",
            "You Play Hockey .\n",
            "You Play Football .\n",
            "You Love Hockey .\n",
            "You Love Football .\n"
          ]
        }
      ]
    },
    {
      "cell_type": "markdown",
      "source": [
        "Please write a program to compress and decompress the string \"hello world!hello world!hello world!hello world!\"."
      ],
      "metadata": {
        "id": "BgHk58kox3aT"
      }
    },
    {
      "cell_type": "code",
      "source": [
        "import zlib\n",
        "\n",
        "inp = input()\n",
        "\n",
        "compressed_data = zlib.compress(inp.encode())\n",
        "decompressed_data = zlib.decompress(compressed_data).decode()\n"
      ],
      "metadata": {
        "colab": {
          "base_uri": "https://localhost:8080/"
        },
        "id": "gyJct4JEyQM-",
        "outputId": "710adddb-a8fe-4d6c-cee3-d4101d76a66a"
      },
      "execution_count": 19,
      "outputs": [
        {
          "name": "stdout",
          "output_type": "stream",
          "text": [
            "hello world!hello world!hello world!hello world!\n"
          ]
        }
      ]
    },
    {
      "cell_type": "markdown",
      "source": [
        "Please write a binary search function which searches an item in a sorted list. The function should return the index of element to be searched in the list."
      ],
      "metadata": {
        "id": "A5kFH-L3yUxd"
      }
    },
    {
      "cell_type": "code",
      "source": [
        "def binary_search(sorted_list, target):\n",
        "    left = 0\n",
        "    right = len(sorted_list) - 1\n",
        "\n",
        "    while left <= right:\n",
        "        mid = left + (right - left) // 2\n",
        "\n",
        "        if sorted_list[mid] == target:\n",
        "            return mid\n",
        "        elif sorted_list[mid] < target:\n",
        "            left = mid + 1\n",
        "        else:\n",
        "            right = mid - 1\n",
        "\n",
        "    return -1\n"
      ],
      "metadata": {
        "id": "M2_bBaeQyVq6"
      },
      "execution_count": 20,
      "outputs": []
    }
  ]
}