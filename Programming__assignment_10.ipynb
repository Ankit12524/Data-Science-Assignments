{
  "nbformat": 4,
  "nbformat_minor": 0,
  "metadata": {
    "colab": {
      "provenance": [],
      "authorship_tag": "ABX9TyO4kF0h0fzffrg7lSVazSA5",
      "include_colab_link": true
    },
    "kernelspec": {
      "name": "python3",
      "display_name": "Python 3"
    },
    "language_info": {
      "name": "python"
    }
  },
  "cells": [
    {
      "cell_type": "markdown",
      "metadata": {
        "id": "view-in-github",
        "colab_type": "text"
      },
      "source": [
        "<a href=\"https://colab.research.google.com/github/Ankit12524/Data-Science-Assignments/blob/main/Programming__assignment_10.ipynb\" target=\"_parent\"><img src=\"https://colab.research.google.com/assets/colab-badge.svg\" alt=\"Open In Colab\"/></a>"
      ]
    },
    {
      "cell_type": "markdown",
      "source": [
        "1. Write a Python program to find sum of elements in list?\n",
        "\n"
      ],
      "metadata": {
        "id": "NDG96nAXEz17"
      }
    },
    {
      "cell_type": "code",
      "execution_count": 32,
      "metadata": {
        "colab": {
          "base_uri": "https://localhost:8080/"
        },
        "id": "SFn8Uq0QEm3M",
        "outputId": "8ef06e84-5448-4699-b880-26d97aa5f123"
      },
      "outputs": [
        {
          "output_type": "stream",
          "name": "stdout",
          "text": [
            "Sum of elements in the list: 15\n"
          ]
        }
      ],
      "source": [
        "def sum_of_elements(lst):\n",
        "\n",
        "  total = sum(lst)\n",
        "\n",
        "  return total\n",
        "\n",
        "my_list = [1, 2, 3, 4, 5]\n",
        "\n",
        "print(\"Sum of elements in the list:\", sum_of_elements(my_list))"
      ]
    },
    {
      "cell_type": "markdown",
      "source": [
        "2. Write a Python program to Multiply all numbers in the list?\n",
        "\n"
      ],
      "metadata": {
        "id": "RPCuZBiGFteq"
      }
    },
    {
      "cell_type": "code",
      "source": [
        "def multiply_elements(lst):\n",
        "\n",
        "  result = 1\n",
        "\n",
        "  for num in lst:\n",
        "\n",
        "    result *= num\n",
        "\n",
        "  return result\n",
        "\n",
        "my_list = [1, 2, 3, 4, 5]\n",
        "\n",
        "print(\"Multiplication of elements in the list:\", multiply_elements(my_list))"
      ],
      "metadata": {
        "colab": {
          "base_uri": "https://localhost:8080/"
        },
        "id": "qDe1sRnhGJP7",
        "outputId": "bbbfa8ae-a3e9-46b3-b203-89138adae9b5"
      },
      "execution_count": 33,
      "outputs": [
        {
          "output_type": "stream",
          "name": "stdout",
          "text": [
            "Multiplication of elements in the list: 120\n"
          ]
        }
      ]
    },
    {
      "cell_type": "markdown",
      "source": [
        "3. Write a Python program to find smallest number in a list?\n",
        "\n"
      ],
      "metadata": {
        "id": "CpF49zuMGA-W"
      }
    },
    {
      "cell_type": "code",
      "source": [
        "min([1,2,3,4,5,6])\n",
        "\n"
      ],
      "metadata": {
        "colab": {
          "base_uri": "https://localhost:8080/"
        },
        "id": "00bDoc7NGDKJ",
        "outputId": "602572bf-c6d6-4bd6-ee26-ca4276200ffb"
      },
      "execution_count": 34,
      "outputs": [
        {
          "output_type": "execute_result",
          "data": {
            "text/plain": [
              "1"
            ]
          },
          "metadata": {},
          "execution_count": 34
        }
      ]
    },
    {
      "cell_type": "markdown",
      "source": [
        "4. Write a Python program to find largest number in a list?\n"
      ],
      "metadata": {
        "id": "3KgxcumoF3F6"
      }
    },
    {
      "cell_type": "code",
      "source": [
        "\n",
        "max([1,2,3,4,5,6,8])"
      ],
      "metadata": {
        "colab": {
          "base_uri": "https://localhost:8080/"
        },
        "id": "F6DDHQ9zF3lp",
        "outputId": "09eeef02-e808-4d37-dab3-12f4e38d6b16"
      },
      "execution_count": 35,
      "outputs": [
        {
          "output_type": "execute_result",
          "data": {
            "text/plain": [
              "8"
            ]
          },
          "metadata": {},
          "execution_count": 35
        }
      ]
    },
    {
      "cell_type": "markdown",
      "source": [
        "5. Write a Python program to find second largest number in a list?\n",
        "\n"
      ],
      "metadata": {
        "id": "XTbvVmcFFwLC"
      }
    },
    {
      "cell_type": "code",
      "source": [
        "def find_second_largest(lst):\n",
        "\n",
        "  sorted_list = sorted(set(lst), reverse=True)\n",
        "\n",
        "  if len(sorted_list) > 1:\n",
        "\n",
        "    return sorted_list[1]\n",
        "\n",
        "  else:\n",
        "\n",
        "    return None\n",
        "\n",
        "my_list = [10, 5, 2, 15, 7]\n",
        "\n",
        "print(\"Second largest number in the list:\", find_second_largest(my_list))"
      ],
      "metadata": {
        "colab": {
          "base_uri": "https://localhost:8080/"
        },
        "id": "6djGethUFzR_",
        "outputId": "e41bd37c-7497-4728-deb0-ed3be11c0ecc"
      },
      "execution_count": 36,
      "outputs": [
        {
          "output_type": "stream",
          "name": "stdout",
          "text": [
            "Second largest number in the list: 10\n"
          ]
        }
      ]
    },
    {
      "cell_type": "markdown",
      "source": [
        "6. Write a Python program to find N largest elements from a list?"
      ],
      "metadata": {
        "id": "h6g4STJsRcxC"
      }
    },
    {
      "cell_type": "code",
      "source": [
        "def find_n_largest(lst, n):\n",
        "\n",
        "  return sorted(lst, reverse=True)[:n]\n",
        "\n",
        "my_list = [10, 5, 2, 15, 7]\n",
        "\n",
        "n = 3\n",
        "\n",
        "print(f\"{n} largest elements in the list:\", find_n_largest(my_list, n))"
      ],
      "metadata": {
        "colab": {
          "base_uri": "https://localhost:8080/"
        },
        "id": "T6MKb9reRcML",
        "outputId": "2c472687-280b-4a64-e62a-2cf7d2e42913"
      },
      "execution_count": 37,
      "outputs": [
        {
          "output_type": "stream",
          "name": "stdout",
          "text": [
            "3 largest elements in the list: [15, 10, 7]\n"
          ]
        }
      ]
    },
    {
      "cell_type": "markdown",
      "source": [
        "Write a Python program to print even numbers in a list?\n",
        "\n"
      ],
      "metadata": {
        "id": "p5Y_YlkbRlSo"
      }
    },
    {
      "cell_type": "code",
      "source": [
        "def even_numbers(lst):\n",
        "\n",
        "  return [num for num in lst if num % 2 == 0]\n",
        "\n",
        "my_list = [1, 2, 3, 4, 5, 6, 7, 8, 9, 10]\n",
        "\n",
        "print(\"Even numbers in the list:\", even_numbers(my_list))"
      ],
      "metadata": {
        "colab": {
          "base_uri": "https://localhost:8080/"
        },
        "id": "7q3jdR5SRouw",
        "outputId": "394cb187-e7ee-49ec-c7f6-457bf17312a8"
      },
      "execution_count": 38,
      "outputs": [
        {
          "output_type": "stream",
          "name": "stdout",
          "text": [
            "Even numbers in the list: [2, 4, 6, 8, 10]\n"
          ]
        }
      ]
    },
    {
      "cell_type": "markdown",
      "source": [
        "Write a Python program to print odd numbers in a List?\n",
        "\n"
      ],
      "metadata": {
        "id": "BbFSndHsRtso"
      }
    },
    {
      "cell_type": "code",
      "source": [
        "def odd_numbers(lst):\n",
        "\n",
        "  return [num for num in lst if num % 2 != 0]\n",
        "\n",
        "my_list = [1, 2, 3, 4, 5, 6, 7, 8, 9, 10]\n",
        "\n",
        "print(\"Odd numbers in the list:\", odd_numbers(my_list))\n",
        "\n"
      ],
      "metadata": {
        "id": "JwFd5_BpRvmp"
      },
      "execution_count": null,
      "outputs": []
    },
    {
      "cell_type": "markdown",
      "source": [
        "9. Write a Python program to Remove empty List from List?\n",
        "\n"
      ],
      "metadata": {
        "id": "JqsSgkjJRy74"
      }
    },
    {
      "cell_type": "code",
      "source": [
        "def remove_empty_lists(lst):\n",
        "\n",
        "  return [sublist for sublist in lst if sublist]\n",
        "\n",
        "my_list = [1, [], 2, [], 3, [4], [], [5, 6], [], []]\n",
        "\n",
        "print(\"List after removing empty lists:\", remove_empty_lists(my_list))"
      ],
      "metadata": {
        "colab": {
          "base_uri": "https://localhost:8080/"
        },
        "id": "4_x3NXrmR1Nq",
        "outputId": "acd6985f-0ebd-4434-ecc0-ebadb52a6c9b"
      },
      "execution_count": 39,
      "outputs": [
        {
          "output_type": "stream",
          "name": "stdout",
          "text": [
            "List after removing empty lists: [1, 2, 3, [4], [5, 6]]\n"
          ]
        }
      ]
    },
    {
      "cell_type": "markdown",
      "source": [
        "10. Write a Python program to Cloning or Copying a list?\n",
        "\n"
      ],
      "metadata": {
        "id": "9kHXs51DR852"
      }
    },
    {
      "cell_type": "code",
      "source": [
        "def clone_list(lst):\n",
        "\n",
        "  return lst.copy()\n",
        "\n",
        "my_list = [1, 2, 3, 4, 5]\n",
        "\n",
        "cloned_list = clone_list(my_list)\n",
        "\n",
        "print(\"Cloned list:\", cloned_list)"
      ],
      "metadata": {
        "colab": {
          "base_uri": "https://localhost:8080/"
        },
        "id": "PQvfrTmPR-qQ",
        "outputId": "ed83dd69-05c4-4eb9-b677-7784c58a341b"
      },
      "execution_count": 40,
      "outputs": [
        {
          "output_type": "stream",
          "name": "stdout",
          "text": [
            "Cloned list: [1, 2, 3, 4, 5]\n"
          ]
        }
      ]
    },
    {
      "cell_type": "markdown",
      "source": [
        "11. Write a Python program to Count occurrences of an element in a list?\n",
        "\n"
      ],
      "metadata": {
        "id": "K4DfVJAQSD0I"
      }
    },
    {
      "cell_type": "code",
      "source": [
        "def count_occurrences(lst, element):\n",
        "\n",
        "  return lst.count(element)\n",
        "\n",
        "my_list = [1, 2, 3, 2, 4, 2, 5]\n",
        "\n",
        "element_to_find = 2\n",
        "\n",
        "print(f\"Occurrences of {element_to_find} in the list:\", count_occurrences(my_list, element_to_find))"
      ],
      "metadata": {
        "colab": {
          "base_uri": "https://localhost:8080/"
        },
        "id": "3YdOWVEFSFbs",
        "outputId": "68757116-cd32-446d-ff69-9db8eab10352"
      },
      "execution_count": 41,
      "outputs": [
        {
          "output_type": "stream",
          "name": "stdout",
          "text": [
            "Occurrences of 2 in the list: 3\n"
          ]
        }
      ]
    }
  ]
}