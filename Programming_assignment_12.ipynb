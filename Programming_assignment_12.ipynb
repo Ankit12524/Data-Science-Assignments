{
  "nbformat": 4,
  "nbformat_minor": 0,
  "metadata": {
    "colab": {
      "provenance": [],
      "authorship_tag": "ABX9TyNYVlAdiMWR/V9T8GSpNhPf",
      "include_colab_link": true
    },
    "kernelspec": {
      "name": "python3",
      "display_name": "Python 3"
    },
    "language_info": {
      "name": "python"
    }
  },
  "cells": [
    {
      "cell_type": "markdown",
      "metadata": {
        "id": "view-in-github",
        "colab_type": "text"
      },
      "source": [
        "<a href=\"https://colab.research.google.com/github/Ankit12524/Data-Science-Assignments/blob/main/Programming_assignment_12.ipynb\" target=\"_parent\"><img src=\"https://colab.research.google.com/assets/colab-badge.svg\" alt=\"Open In Colab\"/></a>"
      ]
    },
    {
      "cell_type": "markdown",
      "source": [
        "1. Write a Python program to Extract Unique values dictionary values?\n",
        "\n"
      ],
      "metadata": {
        "id": "NDG96nAXEz17"
      }
    },
    {
      "cell_type": "code",
      "execution_count": 8,
      "metadata": {
        "colab": {
          "base_uri": "https://localhost:8080/"
        },
        "id": "SFn8Uq0QEm3M",
        "outputId": "f64a375e-c3a9-4a73-9440-285664087467"
      },
      "outputs": [
        {
          "output_type": "stream",
          "name": "stdout",
          "text": [
            "Unique values in the dictionary: {1, 2, 3}\n"
          ]
        }
      ],
      "source": [
        "def extract_unique_values_from_dict(d):\n",
        "\n",
        "  unique_values = set()\n",
        "\n",
        "  for value_list in d.values():\n",
        "\n",
        "    for value in value_list:\n",
        "\n",
        "      unique_values.add(value)\n",
        "\n",
        "    return unique_values\n",
        "\n",
        "my_dict = {'a': [1, 2, 3], 'b': [2, 3, 4], 'c': [3, 4, 5]}\n",
        "\n",
        "unique_values = extract_unique_values_from_dict(my_dict)\n",
        "\n",
        "print(\"Unique values in the dictionary:\", unique_values)\n",
        "\n"
      ]
    },
    {
      "cell_type": "markdown",
      "source": [
        "2. Write a Python program to find the sum of all items in a dictionary?\n",
        "\n"
      ],
      "metadata": {
        "id": "RPCuZBiGFteq"
      }
    },
    {
      "cell_type": "code",
      "source": [
        "def sum_of_items_in_dict(d):\n",
        "\n",
        "  total = sum(sum(value_list) for value_list in d.values())\n",
        "\n",
        "  return total\n",
        "\n",
        "my_dict = {'a': [1, 2, 3], 'b': [2, 3, 4], 'c': [3, 4, 5]}\n",
        "\n",
        "print(\"Sum of all items in the dictionary:\", sum_of_items_in_dict(my_dict))"
      ],
      "metadata": {
        "colab": {
          "base_uri": "https://localhost:8080/"
        },
        "id": "qDe1sRnhGJP7",
        "outputId": "2d6e0d5e-5ef0-4c29-9415-afb613aaef9c"
      },
      "execution_count": 9,
      "outputs": [
        {
          "output_type": "stream",
          "name": "stdout",
          "text": [
            "Sum of all items in the dictionary: 27\n"
          ]
        }
      ]
    },
    {
      "cell_type": "markdown",
      "source": [
        "3. Write a Python program to Merging two Dictionaries?\n",
        "\n"
      ],
      "metadata": {
        "id": "CpF49zuMGA-W"
      }
    },
    {
      "cell_type": "code",
      "source": [
        "def merge_dicts(dict1, dict2):\n",
        "\n",
        "  merged_dict = {**dict1, **dict2}\n",
        "\n",
        "  return merged_dict\n",
        "\n",
        "dict1 = {'a': 1, 'b': 2}\n",
        "\n",
        "dict2 = {'c': 3, 'd': 4}\n",
        "\n",
        "merged_dict = merge_dicts(dict1, dict2)\n",
        "\n",
        "print(\"Merged dictionary:\", merged_dict)"
      ],
      "metadata": {
        "colab": {
          "base_uri": "https://localhost:8080/"
        },
        "id": "00bDoc7NGDKJ",
        "outputId": "9e891ee5-940e-4dd0-f7d3-1e092c968979"
      },
      "execution_count": 11,
      "outputs": [
        {
          "output_type": "stream",
          "name": "stdout",
          "text": [
            "Merged dictionary: {'a': 1, 'b': 2, 'c': 3, 'd': 4}\n"
          ]
        }
      ]
    },
    {
      "cell_type": "markdown",
      "source": [
        "4. Write a Python program to convert key-values list to flat dictionary?\n"
      ],
      "metadata": {
        "id": "XTbvVmcFFwLC"
      }
    },
    {
      "cell_type": "code",
      "source": [
        "\n",
        "def list_to_flat_dict(keys, values):\n",
        "\n",
        "  flat_dict = dict(zip(keys, values))\n",
        "\n",
        "  return flat_dict\n",
        "\n",
        "keys = ['a', 'b', 'c']\n",
        "\n",
        "values = [1, 2, 3]\n",
        "\n",
        "flat_dict = list_to_flat_dict(keys, values)\n",
        "\n",
        "print(\"Flat dictionary:\", flat_dict)"
      ],
      "metadata": {
        "colab": {
          "base_uri": "https://localhost:8080/"
        },
        "id": "6djGethUFzR_",
        "outputId": "1854da74-15b7-4466-8d74-87de864a17dd"
      },
      "execution_count": 18,
      "outputs": [
        {
          "output_type": "stream",
          "name": "stdout",
          "text": [
            "Flat dictionary: {'a': 1, 'b': 2, 'c': 3}\n"
          ]
        }
      ]
    },
    {
      "cell_type": "markdown",
      "source": [
        "5. Write a Python program to insertion at the beginning in OrderedDict?\n",
        "\n"
      ],
      "metadata": {
        "id": "h6g4STJsRcxC"
      }
    },
    {
      "cell_type": "code",
      "source": [
        "from collections import OrderedDict\n",
        "\n",
        "def insert_at_beginning_in_ordered_dict(od, key, value):\n",
        "\n",
        "\n",
        "  od[key] = value\n",
        "  od.move_to_end(key, last=False)\n",
        "\n",
        "ordered_dict = OrderedDict([('a', 1), ('b', 2), ('c', 3)])\n",
        "\n",
        "insert_at_beginning_in_ordered_dict(ordered_dict, 'd', 4)\n",
        "\n",
        "print(\"OrderedDict after insertion at the beginning:\", ordered_dict)\n",
        "\n",
        "\n"
      ],
      "metadata": {
        "colab": {
          "base_uri": "https://localhost:8080/"
        },
        "id": "T6MKb9reRcML",
        "outputId": "d9e0ef2d-3027-40db-9d5e-cfc42193d362"
      },
      "execution_count": 19,
      "outputs": [
        {
          "output_type": "stream",
          "name": "stdout",
          "text": [
            "OrderedDict after insertion at the beginning: OrderedDict([('d', 4), ('a', 1), ('b', 2), ('c', 3)])\n"
          ]
        }
      ]
    },
    {
      "cell_type": "markdown",
      "source": [
        "\n",
        "6. Write a Python program to check order of character in string using OrderedDict()?\n"
      ],
      "metadata": {
        "id": "p5Y_YlkbRlSo"
      }
    },
    {
      "cell_type": "code",
      "source": [
        "\n",
        "from collections import OrderedDict\n",
        "\n",
        "def check_order_of_characters(s, pattern):\n",
        "\n",
        "  od = OrderedDict.fromkeys(pattern)\n",
        "\n",
        "  j = 0\n",
        "\n",
        "  for key in od:\n",
        "\n",
        "    if key not in s[j:]:\n",
        "\n",
        "      return False\n",
        "\n",
        "  j = s.index(key, j) + 1\n",
        "\n",
        "  return True\n",
        "\n",
        "string = \"hello world\"\n",
        "\n",
        "pattern = \"hlo\"\n",
        "\n",
        "print(\"Does the pattern follow the order in the string?\", check_order_of_characters(string, pattern))\n"
      ],
      "metadata": {
        "colab": {
          "base_uri": "https://localhost:8080/"
        },
        "id": "7q3jdR5SRouw",
        "outputId": "bce637dc-1b95-4631-f7df-b6d6b06b07a5"
      },
      "execution_count": 20,
      "outputs": [
        {
          "output_type": "stream",
          "name": "stdout",
          "text": [
            "Does the pattern follow the order in the string? True\n"
          ]
        }
      ]
    },
    {
      "cell_type": "markdown",
      "source": [
        "\n",
        "7. Write a Python program to sort Python Dictionaries by Key or Value?\n"
      ],
      "metadata": {
        "id": "HzeLstOad-Nz"
      }
    },
    {
      "cell_type": "code",
      "source": [
        "\n",
        "def sort_dict_by_key(d):\n",
        "\n",
        "  return {k: d[k] for k in sorted(d)}\n",
        "\n",
        "def sort_dict_by_value(d):\n",
        "\n",
        "  return {k: v for k, v in sorted(d.items(), key=lambda item: item[1])}\n",
        "\n",
        "my_dict = {'c': 3, 'a': 1, 'b': 2}\n",
        "\n",
        "sorted_by_key = sort_dict_by_key(my_dict)\n",
        "\n",
        "sorted_by_value = sort_dict_by_value(my_dict)\n",
        "\n",
        "print(\"Dictionary sorted by key:\", sorted_by_key)\n",
        "\n",
        "print(\"Dictionary sorted by value:\", sorted_by_value)"
      ],
      "metadata": {
        "colab": {
          "base_uri": "https://localhost:8080/"
        },
        "id": "J4X_ELwKeAMn",
        "outputId": "576aef2f-29c7-4d6f-d874-3530e8f4152d"
      },
      "execution_count": 22,
      "outputs": [
        {
          "output_type": "stream",
          "name": "stdout",
          "text": [
            "Dictionary sorted by key: {'a': 1, 'b': 2, 'c': 3}\n",
            "Dictionary sorted by value: {'a': 1, 'b': 2, 'c': 3}\n"
          ]
        }
      ]
    }
  ]
}