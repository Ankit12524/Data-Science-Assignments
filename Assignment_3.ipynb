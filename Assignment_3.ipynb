{
  "nbformat": 4,
  "nbformat_minor": 0,
  "metadata": {
    "colab": {
      "provenance": [],
      "authorship_tag": "ABX9TyM+/AvPfwNRX2UWGc+S54M8",
      "include_colab_link": true
    },
    "kernelspec": {
      "name": "python3",
      "display_name": "Python 3"
    },
    "language_info": {
      "name": "python"
    }
  },
  "cells": [
    {
      "cell_type": "markdown",
      "metadata": {
        "id": "view-in-github",
        "colab_type": "text"
      },
      "source": [
        "<a href=\"https://colab.research.google.com/github/Ankit12524/Data-Science-Assignments/blob/main/Assignment_3.ipynb\" target=\"_parent\"><img src=\"https://colab.research.google.com/assets/colab-badge.svg\" alt=\"Open In Colab\"/></a>"
      ]
    },
    {
      "cell_type": "code",
      "execution_count": null,
      "metadata": {
        "id": "dF13v6bt-RVC"
      },
      "outputs": [],
      "source": []
    },
    {
      "cell_type": "markdown",
      "source": [
        "Q1. The concept of an abstract superclass refers to a class that is designed to be a blueprint or template for other classes but is not meant to be instantiated itself. Abstract superclasses often contain common methods and attributes that should be inherited by their subclasses, but they may also include one or more abstract methods that are meant to be overridden by the subclasses to provide specific implementations. In Python, we can create an abstract superclass by using the ABC (Abstract Base Class) module and defining abstract methods using the @abstractmethod decorator.\n",
        "\n",
        "\n",
        "Q2. When a class statement's top level contains a basic assignment statement (outside any method or nested class), it defines a class attribute. Class attributes are shared among all instances of the class and are typically used to store data that is common to all instances of the class. These attributes are accessed using the class name itself.\n",
        "\n",
        "Q3. A class may need to manually call a superclass's __init__ method when it wants to extend or override the initialization process of the superclass. By default, if a subclass defines its own __init__ method, it does not automatically call the superclass's __init__. To include the superclass's initialization logic in the subclass, we need to explicitly call the superclass's __init__ method using super().__init__() within the subclass's __init__ method.\n",
        "\n",
        "\n",
        "Q4. To augment (extend) an inherited method in a subclass without completely replacing it, you can follow these steps:\n",
        "\n",
        "Call the superclass's method using super() to execute the inherited behavior.\n",
        "Add own logic before or after the call to the superclass method to extend its behavior.\n",
        "This way, we can maintain and build upon the functionality of the inherited method.\n",
        "\n",
        "\n",
        "Q5. The local scope of a class and that of a function differ in several ways:\n",
        "\n",
        "Instance Attributes: In a class, we can define instance attributes that are specific to instances of the class. In a function, we work with local variables that exist only within the function's scope.\n",
        "\n",
        "Method Access: In a class, we define methods that can access both instance attributes and class attributes. In a function, we typically work with function parameters and local variables.\n",
        "\n",
        "Access Control: Classes often have a more complex access control mechanism, including public, private, and protected attributes and methods, which are not present in a function's local scope.\n",
        "\n",
        "Inheritance: Classes can participate in inheritance hierarchies, allowing attributes and methods to be inherited from superclasses. Functions do not have this capability.\n",
        "\n",
        "Object-Oriented Features: Classes are the basis of object-oriented programming (OOP) and provide features like encapsulation, inheritance, and polymorphism, which functions do not have."
      ],
      "metadata": {
        "id": "nt88eMua-baF"
      }
    }
  ]
}