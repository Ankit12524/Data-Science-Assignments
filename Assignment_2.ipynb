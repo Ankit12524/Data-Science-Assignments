{
  "nbformat": 4,
  "nbformat_minor": 0,
  "metadata": {
    "colab": {
      "provenance": [],
      "authorship_tag": "ABX9TyNEax1jpwvlDfdowe1qJ9oh",
      "include_colab_link": true
    },
    "kernelspec": {
      "name": "python3",
      "display_name": "Python 3"
    },
    "language_info": {
      "name": "python"
    }
  },
  "cells": [
    {
      "cell_type": "markdown",
      "metadata": {
        "id": "view-in-github",
        "colab_type": "text"
      },
      "source": [
        "<a href=\"https://colab.research.google.com/github/Ankit12524/Data-Science-Assignments/blob/main/Assignment_2.ipynb\" target=\"_parent\"><img src=\"https://colab.research.google.com/assets/colab-badge.svg\" alt=\"Open In Colab\"/></a>"
      ]
    },
    {
      "cell_type": "code",
      "execution_count": null,
      "metadata": {
        "id": "dF13v6bt-RVC"
      },
      "outputs": [],
      "source": []
    },
    {
      "cell_type": "markdown",
      "source": [
        "Q1. Classes and modules are related in Python in that both are used to organize and structure code, but they serve different purposes:\n",
        "\n",
        "Classes: Classes are used to define blueprints for creating objects (instances). They encapsulate data and behavior into a single unit and allow you to create instances of objects with specific attributes and methods.\n",
        "Modules: Modules are files containing Python code, including classes, functions, and variables, that can be imported and reused in other Python scripts or modules. Classes can be defined within modules, allowing you to organize related classes and functions together.\n",
        "\n",
        "Q2. To create instances and classes in Python:\n",
        "\n",
        "Creating a Class: Use the class keyword followed by the class name and define attributes and methods within the class definition.\n",
        "Creating Instances: To create instances (objects) of a class, call the class's constructor (usually the __init__ method) using the class name followed by parentheses.\n",
        "\n",
        "Q3. Class attributes should be created within the class definition but outside of any methods. They are defined directly within the class block, typically at the top, and are shared among all instances of the class. Class attributes are created by assigning values to them within the class definition.\n",
        "\n",
        "Q4. Instance attributes are created within the __init__ method of a class. They are specific to each instance of the class and are defined using the self keyword within the __init__ method. Instance attributes are assigned values based on the arguments passed to the __init__ method during instance creation.\n",
        "\n",
        "Q5. In a Python class, the term \"self\" refers to the instance of the class itself. It is a convention (though we can technically use any name) to refer to the instance within instance methods. \"self\" allows us to access and manipulate instance-specific data and call other instance methods within the class.\n",
        "\n",
        "Q6. Python allows operator overloading in classes by defining special methods with double underscores (e.g., __add__, __sub__) to customize the behavior of built-in operators for instances of the class. For example, we can define the __add__ method to specify how two objects of class should behave when the + operator is used between them.\n",
        "\n",
        "Q7. Operator overloading should be considered when we want to provide custom behavior for built-in operators in class instances. It is useful when you want your objects to mimic the behavior of built-in types or provide meaningful operations specific to your class.\n",
        "\n",
        "Q8. The most popular form of operator overloading in Python is overloading the __add__ method to allow instances of a class to use the + operator for custom addition. This is commonly seen when working with custom numeric or string-like objects.\n",
        "\n",
        "Q9. Two important concepts to grasp in order to comprehend Python OOP code are:\n",
        "\n",
        "Classes and Objects: Understand the concept of classes as blueprints for creating objects (instances) and the relationships between classes and their instances.\n",
        "Instance and Class Attributes: Distinguish between instance attributes (specific to each instance) and class attributes (shared among all instances) and understand how to work with them in Python classes"
      ],
      "metadata": {
        "id": "nt88eMua-baF"
      }
    }
  ]
}