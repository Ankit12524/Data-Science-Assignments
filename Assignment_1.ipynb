{
  "nbformat": 4,
  "nbformat_minor": 0,
  "metadata": {
    "colab": {
      "provenance": [],
      "authorship_tag": "ABX9TyMjwXL/nZinyQnSznhwHIvL",
      "include_colab_link": true
    },
    "kernelspec": {
      "name": "python3",
      "display_name": "Python 3"
    },
    "language_info": {
      "name": "python"
    }
  },
  "cells": [
    {
      "cell_type": "markdown",
      "metadata": {
        "id": "view-in-github",
        "colab_type": "text"
      },
      "source": [
        "<a href=\"https://colab.research.google.com/github/Ankit12524/Data-Science-Assignments/blob/main/Assignment_1.ipynb\" target=\"_parent\"><img src=\"https://colab.research.google.com/assets/colab-badge.svg\" alt=\"Open In Colab\"/></a>"
      ]
    },
    {
      "cell_type": "code",
      "execution_count": null,
      "metadata": {
        "id": "dF13v6bt-RVC"
      },
      "outputs": [],
      "source": []
    },
    {
      "cell_type": "markdown",
      "source": [
        "Q1. The purpose of Python's Object-Oriented Programming (OOP) is to enable the organization of code into reusable and modular structures called classes and objects. OOP promotes the concept of objects, which are instances of classes, and their methods. It provides a way to structure code, encapsulate data, and define relationships between objects through concepts like inheritance, encapsulation, and polymorphism.\n",
        "\n",
        "Q2. Inheritance search for an attribute in Python follows a specific order known as the Method Resolution Order (MRO). It looks for an attribute in the following order:\n",
        "\n",
        "The instance itself (object-specific attributes).\n",
        "The class of the instance.\n",
        "The base classes (superclasses) of the class in a depth-first, left-to-right order according to the class's inheritance hierarchy.\n",
        "\n",
        "Q3. To distinguish between a class object and an instance object in Python:\n",
        "\n",
        "A class object represents the class itself and is used to define the structure and behavior of instances. You access class attributes and methods using the class name.\n",
        "An instance object is a specific instance created from a class, representing a unique entity with its own data. we access instance-specific attributes and methods using an instance of the class.\n",
        "\n",
        "Q4. The first argument in a class's method function is typically named self, although we can technically name it anything we like (although using self is a widely followed convention). This argument is special because it refers to the instance of the class on which the method is called. It allows you to access and manipulate instance-specific data and call other instance methods within the class.\n",
        "\n",
        "Q5. The __init__ method in Python is a special method (also called a constructor) used for initializing the attributes and state of an object when it is created from a class. It is called automatically when you create a new instance of a class. You define it within the class and use it to set the initial values of instance variables.\n",
        "\n",
        "Q6. To create a class instance in Python, we follow these steps:\n",
        "\n",
        "Define a class with the desired attributes and methods.\n",
        "Instantiate the class by calling the class name followed by parentheses, like this: obj = ClassName().\n",
        "we can optionally pass arguments to the class's __init__ method to initialize instance-specific data.\n",
        "\n",
        "Q7. To create a class in Python, we follow these steps:\n",
        "\n",
        "Use the class keyword followed by the class name to define the class, e.g., class ClassName:.\n",
        "Define attributes (class variables) and methods (including the __init__ method) within the class block.\n",
        "Q8. To define the superclasses (or parent classes) of a class in Python, we specify them in the class definition by putting the superclass names in parentheses after the class name. For example:\n",
        "\n",
        "In this example, Subclass inherits from both Superclass1 and Superclass2, making them its superclasses. This allows Subclass to inherit attributes and methods from both superclasses."
      ],
      "metadata": {
        "id": "nt88eMua-baF"
      }
    },
    {
      "cell_type": "markdown",
      "source": [
        "\n",
        "class Subclass(Superclass1, Superclass2):\n",
        "    # Class definition for Subclass\n"
      ],
      "metadata": {
        "id": "eTR3ZNkVDcXD"
      }
    },
    {
      "cell_type": "markdown",
      "source": [],
      "metadata": {
        "id": "GPoUgaWc-V6Q"
      }
    }
  ]
}