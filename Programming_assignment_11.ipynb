{
  "nbformat": 4,
  "nbformat_minor": 0,
  "metadata": {
    "colab": {
      "provenance": [],
      "authorship_tag": "ABX9TyOq1WJg5F1P4qZOMJ6NfbMz",
      "include_colab_link": true
    },
    "kernelspec": {
      "name": "python3",
      "display_name": "Python 3"
    },
    "language_info": {
      "name": "python"
    }
  },
  "cells": [
    {
      "cell_type": "markdown",
      "metadata": {
        "id": "view-in-github",
        "colab_type": "text"
      },
      "source": [
        "<a href=\"https://colab.research.google.com/github/Ankit12524/Data-Science-Assignments/blob/main/Programming_assignment_11.ipynb\" target=\"_parent\"><img src=\"https://colab.research.google.com/assets/colab-badge.svg\" alt=\"Open In Colab\"/></a>"
      ]
    },
    {
      "cell_type": "markdown",
      "source": [
        "1. Write a Python program to find words which are greater than given length k?\n"
      ],
      "metadata": {
        "id": "NDG96nAXEz17"
      }
    },
    {
      "cell_type": "code",
      "execution_count": 1,
      "metadata": {
        "colab": {
          "base_uri": "https://localhost:8080/"
        },
        "id": "SFn8Uq0QEm3M",
        "outputId": "ac181a43-a9b7-447e-942f-739a1f13c366"
      },
      "outputs": [
        {
          "output_type": "stream",
          "name": "stdout",
          "text": [
            "Words greater than length 4 : ['sample', 'words', 'greater', 'length']\n"
          ]
        }
      ],
      "source": [
        "\n",
        "def find_words_greater_than_k(sentence, k):\n",
        "\n",
        "  words = sentence.split()\n",
        "\n",
        "  result = [word for word in words if len(word) > k]\n",
        "\n",
        "  return result\n",
        "\n",
        "text = \"This is a sample text to find words greater than length 4\"\n",
        "\n",
        "k = 4\n",
        "\n",
        "print(\"Words greater than length\", k, \":\", find_words_greater_than_k(text, k))"
      ]
    },
    {
      "cell_type": "markdown",
      "source": [
        "2. Write a Python program for removing i-th character from a string?\n",
        "\n"
      ],
      "metadata": {
        "id": "RPCuZBiGFteq"
      }
    },
    {
      "cell_type": "code",
      "source": [
        "def remove_ith_character(s, i):\n",
        "\n",
        "  return s[:i] + s[i+1:]\n",
        "\n",
        "string = \"example\"\n",
        "\n",
        "i = 2\n",
        "\n",
        "print(\"String after removing the i-th character:\", remove_ith_character(string, i))\n",
        "\n"
      ],
      "metadata": {
        "colab": {
          "base_uri": "https://localhost:8080/"
        },
        "id": "qDe1sRnhGJP7",
        "outputId": "1ceab045-c0e0-46df-c61b-3c5ec167ca7f"
      },
      "execution_count": 2,
      "outputs": [
        {
          "output_type": "stream",
          "name": "stdout",
          "text": [
            "String after removing the i-th character: exmple\n"
          ]
        }
      ]
    },
    {
      "cell_type": "markdown",
      "source": [
        "3. Write a Python program to split and join a string?\n",
        "\n"
      ],
      "metadata": {
        "id": "CpF49zuMGA-W"
      }
    },
    {
      "cell_type": "code",
      "source": [
        "def split_and_join_string(s):\n",
        "\n",
        "  words = s.split()\n",
        "\n",
        "  return '-'.join(words)\n",
        "\n",
        "string = \"This is a sample string\"\n",
        "\n",
        "print(\"String after split and join:\", split_and_join_string(string))"
      ],
      "metadata": {
        "colab": {
          "base_uri": "https://localhost:8080/"
        },
        "id": "00bDoc7NGDKJ",
        "outputId": "d1c32e98-5edc-479c-a4cb-d3c677c02155"
      },
      "execution_count": 3,
      "outputs": [
        {
          "output_type": "stream",
          "name": "stdout",
          "text": [
            "String after split and join: This-is-a-sample-string\n"
          ]
        }
      ]
    },
    {
      "cell_type": "markdown",
      "source": [
        "4. Write a Python to check if a given string is binary string or not?\n",
        "\n"
      ],
      "metadata": {
        "id": "3KgxcumoF3F6"
      }
    },
    {
      "cell_type": "code",
      "source": [
        "def is_binary_string(s):\n",
        "\n",
        "  return all(char in '01' for char in s)\n",
        "\n",
        "string1 = \"010101\"\n",
        "\n",
        "string2 = \"101201\"\n",
        "\n",
        "print(\"Is string1 a binary string?\", is_binary_string(string1))\n",
        "\n",
        "print(\"Is string2 a binary string?\", is_binary_string(string2))\n",
        "\n"
      ],
      "metadata": {
        "colab": {
          "base_uri": "https://localhost:8080/"
        },
        "id": "F6DDHQ9zF3lp",
        "outputId": "67c87246-9de1-4c39-a5c2-88bc7cabc2d8"
      },
      "execution_count": 4,
      "outputs": [
        {
          "output_type": "stream",
          "name": "stdout",
          "text": [
            "Is string1 a binary string? True\n",
            "Is string2 a binary string? False\n"
          ]
        }
      ]
    },
    {
      "cell_type": "markdown",
      "source": [
        "5. Write a Python program to find uncommon words from two Strings?\n",
        "\n"
      ],
      "metadata": {
        "id": "XTbvVmcFFwLC"
      }
    },
    {
      "cell_type": "code",
      "source": [
        "def find_uncommon_words(str1, str2):\n",
        "\n",
        "  words1 = set(str1.split())\n",
        "\n",
        "  words2 = set(str2.split())\n",
        "\n",
        "  uncommon_words = words1.symmetric_difference(words2)\n",
        "\n",
        "  return uncommon_words\n",
        "\n",
        "text1 = \"This is a sample text\"\n",
        "\n",
        "text2 = \"This is another sample text with some different words\"\n",
        "\n",
        "print(\"Uncommon words:\", find_uncommon_words(text1, text2))"
      ],
      "metadata": {
        "colab": {
          "base_uri": "https://localhost:8080/"
        },
        "id": "6djGethUFzR_",
        "outputId": "3a1e4ef6-921c-4aaf-ba34-1d8f78a98a3b"
      },
      "execution_count": 5,
      "outputs": [
        {
          "output_type": "stream",
          "name": "stdout",
          "text": [
            "Uncommon words: {'another', 'with', 'a', 'different', 'some', 'words'}\n"
          ]
        }
      ]
    },
    {
      "cell_type": "markdown",
      "source": [
        "6. Write a Python to find all duplicate characters in string?\n",
        "\n"
      ],
      "metadata": {
        "id": "h6g4STJsRcxC"
      }
    },
    {
      "cell_type": "code",
      "source": [
        "def find_duplicate_characters(s):\n",
        "\n",
        "  duplicates = []\n",
        "\n",
        "  for char in s:\n",
        "\n",
        "    if s.count(char) > 1 and char not in duplicates:\n",
        "\n",
        "      duplicates.append(char)\n",
        "\n",
        "  return duplicates\n",
        "\n",
        "string = \"hello world\"\n",
        "\n",
        "print(\"Duplicate characters:\", find_duplicate_characters(string))"
      ],
      "metadata": {
        "colab": {
          "base_uri": "https://localhost:8080/"
        },
        "id": "T6MKb9reRcML",
        "outputId": "1ef3d35e-0581-40e7-aafe-704caa0c6321"
      },
      "execution_count": 6,
      "outputs": [
        {
          "output_type": "stream",
          "name": "stdout",
          "text": [
            "Duplicate characters: ['l', 'o']\n"
          ]
        }
      ]
    },
    {
      "cell_type": "markdown",
      "source": [
        "7. Write a Python Program to check if a string contains any special character?\n"
      ],
      "metadata": {
        "id": "p5Y_YlkbRlSo"
      }
    },
    {
      "cell_type": "code",
      "source": [
        "\n",
        "import string\n",
        "\n",
        "def has_special_character(s):\n",
        "\n",
        "  special_chars = set(string.punctuation)\n",
        "\n",
        "  return any(char in special_chars for char in s)\n",
        "\n",
        "string1 = \"Hello, world!\"\n",
        "\n",
        "string2 = \"Just a normal string\"\n",
        "\n",
        "print(\"Does string1 contain any special character?\", has_special_character(string1))\n",
        "\n",
        "print(\"Does string2 contain any special character?\", has_special_character(string2))"
      ],
      "metadata": {
        "colab": {
          "base_uri": "https://localhost:8080/"
        },
        "id": "7q3jdR5SRouw",
        "outputId": "8a42918b-c0b3-4a03-a740-9eadafc747c2"
      },
      "execution_count": 7,
      "outputs": [
        {
          "output_type": "stream",
          "name": "stdout",
          "text": [
            "Does string1 contain any special character? True\n",
            "Does string2 contain any special character? False\n"
          ]
        }
      ]
    }
  ]
}