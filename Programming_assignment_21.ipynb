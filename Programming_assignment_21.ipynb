{
  "nbformat": 4,
  "nbformat_minor": 0,
  "metadata": {
    "colab": {
      "provenance": [],
      "authorship_tag": "ABX9TyNf3GwHXOnnYc4ovxmHKJdn",
      "include_colab_link": true
    },
    "kernelspec": {
      "name": "python3",
      "display_name": "Python 3"
    },
    "language_info": {
      "name": "python"
    }
  },
  "cells": [
    {
      "cell_type": "markdown",
      "metadata": {
        "id": "view-in-github",
        "colab_type": "text"
      },
      "source": [
        "<a href=\"https://colab.research.google.com/github/Ankit12524/Data-Science-Assignments/blob/main/Programming_assignment_21.ipynb\" target=\"_parent\"><img src=\"https://colab.research.google.com/assets/colab-badge.svg\" alt=\"Open In Colab\"/></a>"
      ]
    },
    {
      "cell_type": "markdown",
      "source": [
        "Write a function that takes a list and a number as arguments. Add the number to the end of the list, then remove the first element of the list. The function should then return the updated list.\n",
        "Examples\n",
        "next_in_line([5, 6, 7, 8, 9], 1) ➞ [6, 7, 8, 9, 1]\n",
        "\n",
        "next_in_line([7, 6, 3, 23, 17], 10) ➞ [6, 3, 23, 17, 10]\n",
        "\n",
        "next_in_line([1, 10, 20, 42 ], 6) ➞ [10, 20, 42, 6]\n",
        "\n",
        "next_in_line([], 6) ➞ \"No list has been selected\"\n"
      ],
      "metadata": {
        "id": "kRnSUNK38ZUD"
      }
    },
    {
      "cell_type": "code",
      "source": [
        "def next_in_line(lst, num):\n",
        "    if not lst:\n",
        "        return \"No list has been selected\"\n",
        "    lst.pop(0)\n",
        "    lst.append(num)\n",
        "    return lst\n",
        "next_in_line([7, 6, 3, 23, 17], 10)"
      ],
      "metadata": {
        "id": "lMmTVvdm0rQc",
        "colab": {
          "base_uri": "https://localhost:8080/"
        },
        "outputId": "60e5e825-1fc5-4aec-e713-27bc8debd5b6"
      },
      "execution_count": 1,
      "outputs": [
        {
          "output_type": "execute_result",
          "data": {
            "text/plain": [
              "[6, 3, 23, 17, 10]"
            ]
          },
          "metadata": {},
          "execution_count": 1
        }
      ]
    },
    {
      "cell_type": "markdown",
      "source": [
        "Question2\n",
        "Create the function that takes a list of dictionaries and returns the sum of people's budgets.\n",
        "Examples\n",
        "get_budgets([\n",
        "  { \"name\": \"John\", \"age\": 21, \"budget\": 23000 },\n",
        "  { \"name\": \"Steve\",  \"age\": 32, \"budget\": 40000 },\n",
        "  { \"name\": \"Martin\",  \"age\": 16, \"budget\": 2700 }\n",
        "]) ➞ 65700\n",
        "\n",
        "get_budgets([\n",
        "  { \"name\": \"John\",  \"age\": 21, \"budget\": 29000 },\n",
        "  { \"name\": \"Steve\",  \"age\": 32, \"budget\": 32000 },\n",
        "  { \"name\": \"Martin\",  \"age\": 16, \"budget\": 1600 }\n",
        "]) ➞ 62600\n"
      ],
      "metadata": {
        "id": "L9yRAUov8f8B"
      }
    },
    {
      "cell_type": "code",
      "source": [
        "def get_budgets(lst):\n",
        "    return sum(person['budget'] for person in lst)\n",
        "\n",
        "get_budgets([\n",
        "  { \"name\": \"John\", \"age\": 21, \"budget\": 23000 },\n",
        "  { \"name\": \"Steve\",  \"age\": 32, \"budget\": 40000 },\n",
        "  { \"name\": \"Martin\",  \"age\": 16, \"budget\": 2700 }\n",
        "]\n",
        ")\n"
      ],
      "metadata": {
        "id": "5vElVQja0ua0",
        "colab": {
          "base_uri": "https://localhost:8080/"
        },
        "outputId": "f400d767-81ac-42d3-a4d2-ed5300b68c6e"
      },
      "execution_count": 4,
      "outputs": [
        {
          "output_type": "execute_result",
          "data": {
            "text/plain": [
              "65700"
            ]
          },
          "metadata": {},
          "execution_count": 4
        }
      ]
    },
    {
      "cell_type": "markdown",
      "source": [
        "Create a function that takes a string and returns a string with its letters in alphabetical order."
      ],
      "metadata": {
        "id": "9vg_GLg69S1a"
      }
    },
    {
      "cell_type": "code",
      "source": [
        "\n",
        "def alphabet_soup(s):\n",
        "    return ''.join(sorted(s))\n",
        "\n",
        "alphabet_soup(input())"
      ],
      "metadata": {
        "colab": {
          "base_uri": "https://localhost:8080/",
          "height": 54
        },
        "id": "8oYRkziP9ach",
        "outputId": "b9b38c8e-3322-4325-916d-94fa4d90918d"
      },
      "execution_count": 5,
      "outputs": [
        {
          "name": "stdout",
          "output_type": "stream",
          "text": [
            "hello\n"
          ]
        },
        {
          "output_type": "execute_result",
          "data": {
            "text/plain": [
              "'ehllo'"
            ],
            "application/vnd.google.colaboratory.intrinsic+json": {
              "type": "string"
            }
          },
          "metadata": {},
          "execution_count": 5
        }
      ]
    },
    {
      "cell_type": "markdown",
      "source": [
        "Suppose that you invest $10,000 for 10 years at an interest rate of 6% compounded monthly. What will be the value of your investment at the end of the 10 year period?\n",
        "Create a function that accepts the principal p, the term in years t, the interest rate r, and the number of compounding periods per year n. The function returns the value at the end of term rounded to the nearest cent.\n",
        "For the example above:\n",
        "compound_interest(10000, 10, 0.06, 12) ➞ 18193.97\n",
        "Note that the interest rate is given as a decimal and n=12 because with monthly compounding there are 12 periods per year. Compounding can also be done annually, quarterly, weekly, or daily.\n",
        "Examples\n",
        "compound_interest(100, 1, 0.05, 1) ➞ 105.0\n",
        "\n",
        "compound_interest(3500, 15, 0.1, 4) ➞ 15399.26\n",
        "\n",
        "compound_interest(100000, 20, 0.15, 365) ➞ 2007316.26\n"
      ],
      "metadata": {
        "id": "zojdUbBH9gfJ"
      }
    },
    {
      "cell_type": "code",
      "source": [
        "def compound_interest(p, t, r, n):\n",
        "    A = p * (1 + r/n)**(n*t)\n",
        "    return round(A, 2)\n",
        "\n",
        "compound_interest(100, 1, 0.05, 1)"
      ],
      "metadata": {
        "colab": {
          "base_uri": "https://localhost:8080/"
        },
        "id": "vLNivz969jJl",
        "outputId": "1698f42e-e50d-4177-b139-12f16bb1710f"
      },
      "execution_count": 7,
      "outputs": [
        {
          "output_type": "execute_result",
          "data": {
            "text/plain": [
              "105.0"
            ]
          },
          "metadata": {},
          "execution_count": 7
        }
      ]
    },
    {
      "cell_type": "markdown",
      "source": [
        "Question5\n",
        "Write a function that takes a list of elements and returns only the integers.\n",
        "Examples\n",
        "return_only_integer([9, 2, \"space\", \"car\", \"lion\", 16]) ➞ [9, 2, 16]\n",
        "\n",
        "return_only_integer([\"hello\", 81, \"basketball\", 123, \"fox\"]) ➞ [81, 123]\n",
        "\n",
        "return_only_integer([10, \"121\", 56, 20, \"car\", 3, \"lion\"]) ➞ [10, 56, 20, 3]\n",
        "\n",
        "return_only_integer([\"String\",  True,  3.3,  1]) ➞ [1]\n",
        "Ans.\n"
      ],
      "metadata": {
        "id": "89SgVZa4-Aan"
      }
    },
    {
      "cell_type": "code",
      "source": [
        "def return_only_integer(lst):\n",
        "    return print([num for num in lst if isinstance(num, int)])\n",
        "\n",
        "return_only_integer([9, 2, \"space\", \"car\", \"lion\", 16])\n",
        "\n",
        "return_only_integer([\"hello\", 81, \"basketball\", 123, \"fox\"])\n",
        "\n",
        "return_only_integer([10, \"121\", 56, 20, \"car\", 3, \"lion\"])\n",
        "\n",
        "\n"
      ],
      "metadata": {
        "colab": {
          "base_uri": "https://localhost:8080/"
        },
        "id": "DHFQZJdz006o",
        "outputId": "3e04c099-c81c-4719-cdf5-ecb729996c04"
      },
      "execution_count": 11,
      "outputs": [
        {
          "output_type": "stream",
          "name": "stdout",
          "text": [
            "[9, 2, 16]\n",
            "[81, 123]\n",
            "[10, 56, 20, 3]\n"
          ]
        }
      ]
    }
  ]
}