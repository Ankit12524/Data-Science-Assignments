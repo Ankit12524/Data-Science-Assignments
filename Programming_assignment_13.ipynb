{
  "nbformat": 4,
  "nbformat_minor": 0,
  "metadata": {
    "colab": {
      "provenance": [],
      "authorship_tag": "ABX9TyMRNAkuZy8EjwMbfifCrD/2",
      "include_colab_link": true
    },
    "kernelspec": {
      "name": "python3",
      "display_name": "Python 3"
    },
    "language_info": {
      "name": "python"
    }
  },
  "cells": [
    {
      "cell_type": "markdown",
      "metadata": {
        "id": "view-in-github",
        "colab_type": "text"
      },
      "source": [
        "<a href=\"https://colab.research.google.com/github/Ankit12524/Data-Science-Assignments/blob/main/Programming_assignment_13.ipynb\" target=\"_parent\"><img src=\"https://colab.research.google.com/assets/colab-badge.svg\" alt=\"Open In Colab\"/></a>"
      ]
    },
    {
      "cell_type": "markdown",
      "source": [
        "Question 1:\n",
        "\n",
        "Write a program that calculates and prints the value according to the given formula:\n",
        "\n",
        "Q = Square root of [(2 * C * D)/H]\n",
        "\n",
        "Following are the fixed values of C and H:\n",
        "\n",
        "C is 50. H is 30.\n",
        "\n",
        "D is the variable whose values should be input to your program in a comma-separated sequence.\n",
        "\n",
        "Example\n",
        "\n",
        "Let us assume the following comma separated input sequence is given to the program:\n",
        "\n",
        "100,150,180\n",
        "\n",
        "The output of the program should be:\n",
        "\n",
        "18,22,24"
      ],
      "metadata": {
        "id": "NDG96nAXEz17"
      }
    },
    {
      "cell_type": "code",
      "execution_count": 9,
      "metadata": {
        "colab": {
          "base_uri": "https://localhost:8080/"
        },
        "id": "SFn8Uq0QEm3M",
        "outputId": "4b59f5c4-02c9-4eb9-c123-d9c8cbb36142"
      },
      "outputs": [
        {
          "output_type": "stream",
          "name": "stdout",
          "text": [
            "100,150,180\n",
            "18,22,24,"
          ]
        }
      ],
      "source": [
        "inp = input().split(',')\n",
        "\n",
        "for D in inp:\n",
        "\n",
        "  C = 50\n",
        "\n",
        "  H = 30\n",
        "\n",
        "  Q = int(round(((2*C*int(D))/H)**0.5,0))\n",
        "\n",
        "  print(Q,end=',')"
      ]
    },
    {
      "cell_type": "markdown",
      "source": [
        "Question 2:\n",
        "\n",
        "Write a program which takes 2 digits, X,Y as input and generates a 2-dimensional array. The\n",
        "\n",
        "element value in the i-th row and j-th column of the array should be i*j.\n",
        "\n",
        "Note: i=0,1.., X-1; j=0,1,¡Y-1.\n",
        "\n",
        "Example\n",
        "\n",
        "Suppose the following inputs are given to the program:\n",
        "\n",
        "3,5\n",
        "\n",
        "Then, the output of the program should be:\n",
        "\n",
        "[[0, 0, 0, 0, 0], [0, 1, 2, 3, 4], [0, 2, 4, 6, 8]]"
      ],
      "metadata": {
        "id": "RPCuZBiGFteq"
      }
    },
    {
      "cell_type": "code",
      "source": [
        "X,Y = list(map(int,input().split(',')))\n",
        "\n",
        "output = []\n",
        "\n",
        "for x in range(X):\n",
        "\n",
        "  row = []\n",
        "\n",
        "  for y in range(Y):\n",
        "\n",
        "    row.append(x*y)\n",
        "\n",
        "  output.append(row)\n",
        "\n",
        "print(output)"
      ],
      "metadata": {
        "colab": {
          "base_uri": "https://localhost:8080/"
        },
        "id": "qDe1sRnhGJP7",
        "outputId": "2887e0ab-0bc2-4415-e87f-cf92009548b4"
      },
      "execution_count": 5,
      "outputs": [
        {
          "output_type": "stream",
          "name": "stdout",
          "text": [
            "3,5\n",
            "[[0, 0, 0, 0, 0], [0, 1, 2, 3, 4], [0, 2, 4, 6, 8]]\n"
          ]
        }
      ]
    },
    {
      "cell_type": "markdown",
      "source": [
        "Write a program that accepts a comma separated sequence of words as input and prints the words in a comma-separated sequence after sorting them alphabetically.\n",
        "\n",
        "Suppose the following input is supplied to the program:\n",
        "\n",
        "without,hello,bag,world\n",
        "\n",
        "Then, the output should be:\n",
        "\n",
        "bag,hello,without,world"
      ],
      "metadata": {
        "id": "CpF49zuMGA-W"
      }
    },
    {
      "cell_type": "code",
      "source": [
        "inp = input().split(',')\n",
        "\n",
        "print(','.join(sorted(inp)))"
      ],
      "metadata": {
        "colab": {
          "base_uri": "https://localhost:8080/"
        },
        "id": "00bDoc7NGDKJ",
        "outputId": "bb393d7b-1e01-42c5-edfb-556ab024d730"
      },
      "execution_count": 10,
      "outputs": [
        {
          "output_type": "stream",
          "name": "stdout",
          "text": [
            "without,hello,bag,world\n",
            "bag,hello,without,world\n"
          ]
        }
      ]
    },
    {
      "cell_type": "markdown",
      "source": [
        "Question 4:\n",
        "\n",
        "Write a program that accepts a sequence of whitespace separated words as input and prints the words after removing all duplicate words and sorting them alphanumerically.\n",
        "\n",
        "Suppose the following input is supplied to the program:\n",
        "\n",
        "hello world and practice makes perfect and hello world again\n",
        "\n",
        "Then, the output should be:\n",
        "\n",
        "again and hello makes perfect practice world"
      ],
      "metadata": {
        "id": "XTbvVmcFFwLC"
      }
    },
    {
      "cell_type": "code",
      "source": [
        "inp = input().split()\n",
        "\n",
        "unq_inp = []\n",
        "\n",
        "for x in inp:\n",
        "\n",
        "  if x not in unq_inp:\n",
        "\n",
        "    unq_inp.append(x)\n",
        "\n",
        "print(*sorted(unq_inp))"
      ],
      "metadata": {
        "colab": {
          "base_uri": "https://localhost:8080/"
        },
        "id": "6djGethUFzR_",
        "outputId": "9c5802ea-3213-4834-cb50-c9acb8e43d8c"
      },
      "execution_count": 11,
      "outputs": [
        {
          "output_type": "stream",
          "name": "stdout",
          "text": [
            "hello world and practice makes perfect and hello world again\n",
            "again and hello makes perfect practice world\n"
          ]
        }
      ]
    },
    {
      "cell_type": "markdown",
      "source": [
        "Question 5:\n",
        "\n",
        "Write a program that accepts a sentence and calculate the number of letters and digits.\n",
        "\n",
        "Suppose the following input is supplied to the program:\n",
        "\n",
        "hello world! 123\n",
        "\n",
        "Then, the output should be:\n",
        "\n",
        "LETTERS 10\n",
        "\n",
        "DIGITS 3"
      ],
      "metadata": {
        "id": "h6g4STJsRcxC"
      }
    },
    {
      "cell_type": "code",
      "source": [
        "inp = input()\n",
        "\n",
        "digit = 0\n",
        "\n",
        "letters = 0\n",
        "\n",
        "for x in inp:\n",
        "\n",
        "  if x.isdigit():\n",
        "\n",
        "    digit+=1\n",
        "\n",
        "  elif x.isalpha():\n",
        "\n",
        "   letters+=1\n",
        "\n",
        "print('LETTERS', letters)\n",
        "\n",
        "print('DIGITS', digit)"
      ],
      "metadata": {
        "colab": {
          "base_uri": "https://localhost:8080/"
        },
        "id": "T6MKb9reRcML",
        "outputId": "963ef2ef-1fad-4cd5-926c-cae203f68f04"
      },
      "execution_count": 12,
      "outputs": [
        {
          "output_type": "stream",
          "name": "stdout",
          "text": [
            "hello world! 123\n",
            "LETTERS 10\n",
            "DIGITS 3\n"
          ]
        }
      ]
    },
    {
      "cell_type": "markdown",
      "source": [
        "Question 6:\n",
        "\n",
        "A website requires the users to input username and password to register. Write a program to check the validity of password input by users.\n",
        "\n",
        "Following are the criteria for checking the password:\n",
        "\n",
        "1. At least 1 letter between [a-z]\n",
        "\n",
        "2. At least 1 number between [0-9]\n",
        "\n",
        "1. At least 1 letter between [A-Z]\n",
        "\n",
        "3. At least 1 character from [$#@]\n",
        "\n",
        "4. Minimum length of transaction password: 6\n",
        "\n",
        "5. Maximum length of transaction password: 12\n",
        "\n",
        "Your program should accept a sequence of comma separated passwords and will check them according to the above criteria. Passwords that match the criteria are to be printed, each separated by a comma.\n",
        "\n",
        "Example\n",
        "\n",
        "If the following passwords are given as input to the program:\n",
        "\n",
        "ABd1234@1,a F1#,2w3E*,2We3345\n",
        "\n",
        "Then, the output of the program should be:\n",
        "\n",
        "ABd1234@1\n",
        "\n",
        "\n"
      ],
      "metadata": {
        "id": "p5Y_YlkbRlSo"
      }
    },
    {
      "cell_type": "code",
      "source": [
        "\n",
        "inp = input().split(',')\n",
        "\n",
        "cap = 'ABCDEFGHIJKLMNOPQRSTUVWXYZ'\n",
        "\n",
        "for x in inp:\n",
        "\n",
        "  if all([len(x)>5,len(x)<13,any([y in '&#@' for y in x]),any([y.isalpha() for y in x]),any([y.isdigit() for y in x]),any([y in cap for y in x])]):\n",
        "\n",
        "    print(x)"
      ],
      "metadata": {
        "colab": {
          "base_uri": "https://localhost:8080/"
        },
        "id": "7q3jdR5SRouw",
        "outputId": "a73a38e2-121a-4206-c9c4-0957954ba1f7"
      },
      "execution_count": 14,
      "outputs": [
        {
          "output_type": "stream",
          "name": "stdout",
          "text": [
            "ABd1234@1,a F1#,2w3E*,2We3345\n",
            "ABd1234@1\n"
          ]
        }
      ]
    }
  ]
}