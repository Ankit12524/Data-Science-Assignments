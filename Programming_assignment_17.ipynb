{
  "nbformat": 4,
  "nbformat_minor": 0,
  "metadata": {
    "colab": {
      "provenance": [],
      "authorship_tag": "ABX9TyPNl3V352QdjweUnS2X6kk4",
      "include_colab_link": true
    },
    "kernelspec": {
      "name": "python3",
      "display_name": "Python 3"
    },
    "language_info": {
      "name": "python"
    }
  },
  "cells": [
    {
      "cell_type": "markdown",
      "metadata": {
        "id": "view-in-github",
        "colab_type": "text"
      },
      "source": [
        "<a href=\"https://colab.research.google.com/github/Ankit12524/Data-Science-Assignments/blob/main/Programming_assignment_17.ipynb\" target=\"_parent\"><img src=\"https://colab.research.google.com/assets/colab-badge.svg\" alt=\"Open In Colab\"/></a>"
      ]
    },
    {
      "cell_type": "code",
      "source": [
        "#1\n",
        "\n",
        "def evenly_divisible(a, b, c):\n",
        "    total = 0\n",
        "    for num in range(a, b+1):\n",
        "        if num % c == 0:\n",
        "            total += num\n",
        "    return total\n",
        "\n",
        "enenvly_divisible(input('num1 : '), input('num2 : '), input('num3 : '))\n"
      ],
      "metadata": {
        "id": "lMmTVvdm0rQc"
      },
      "execution_count": null,
      "outputs": []
    },
    {
      "cell_type": "code",
      "source": [
        "#2\n",
        "\n",
        "def correct_signs(expr):\n",
        "    return eval(expr)\n",
        "\n",
        "correct_signs(input())"
      ],
      "metadata": {
        "id": "5vElVQja0ua0"
      },
      "execution_count": null,
      "outputs": []
    },
    {
      "cell_type": "code",
      "source": [
        "#3\n",
        "\n",
        "def replace_vowels(s, replacement):\n",
        "    vowels = \"aeiouAEIOU\"\n",
        "    result = ''.join([replacement if char in vowels else char for char in s])\n",
        "    return result\n",
        "\n",
        "replace_vowels(input(), input())"
      ],
      "metadata": {
        "colab": {
          "base_uri": "https://localhost:8080/",
          "height": 72
        },
        "id": "DHFQZJdz006o",
        "outputId": "c8024c07-b427-4611-ca34-4db74e4746db"
      },
      "execution_count": 30,
      "outputs": [
        {
          "name": "stdout",
          "output_type": "stream",
          "text": [
            "a\n",
            "dsa\n"
          ]
        },
        {
          "output_type": "execute_result",
          "data": {
            "text/plain": [
              "'dsa'"
            ],
            "application/vnd.google.colaboratory.intrinsic+json": {
              "type": "string"
            }
          },
          "metadata": {},
          "execution_count": 30
        }
      ]
    },
    {
      "cell_type": "code",
      "source": [
        "#Q4\n",
        "\n",
        "def factorial(n):\n",
        "    n = int(n)\n",
        "    if n == 0 or n == 1:\n",
        "        return 1\n",
        "    else:\n",
        "        return n * factorial(n - 1)\n",
        "\n",
        "factorial(input('enter a number'))\n"
      ],
      "metadata": {
        "colab": {
          "base_uri": "https://localhost:8080/"
        },
        "id": "2_-R2kDB03_B",
        "outputId": "b27a5eaf-241f-4bd4-8026-9525165981b2"
      },
      "execution_count": 29,
      "outputs": [
        {
          "name": "stdout",
          "output_type": "stream",
          "text": [
            "enter a number10\n"
          ]
        },
        {
          "output_type": "execute_result",
          "data": {
            "text/plain": [
              "3628800"
            ]
          },
          "metadata": {},
          "execution_count": 29
        }
      ]
    },
    {
      "cell_type": "code",
      "source": [
        "#Q5\n",
        "\n",
        "\n",
        "def hamming_distance(str1, str2):\n",
        "    return sum(c1 != c2 for c1, c2 in zip(str1, str2))\n",
        "\n",
        "\n",
        "hamming_distance(input('str1 : '),input('str2 : '))\n",
        "\n",
        "\n"
      ],
      "metadata": {
        "colab": {
          "base_uri": "https://localhost:8080/"
        },
        "id": "Fz2SY2aY08-h",
        "outputId": "879716af-34c2-4fed-aa94-c8bfaed1bfc0"
      },
      "execution_count": 27,
      "outputs": [
        {
          "name": "stdout",
          "output_type": "stream",
          "text": [
            "str1 : abcd\n",
            "str2 : efgh\n"
          ]
        },
        {
          "output_type": "execute_result",
          "data": {
            "text/plain": [
              "4"
            ]
          },
          "metadata": {},
          "execution_count": 27
        }
      ]
    }
  ]
}