{
  "nbformat": 4,
  "nbformat_minor": 0,
  "metadata": {
    "colab": {
      "provenance": [],
      "authorship_tag": "ABX9TyPJjKYvvotAXJU7EaWO0Kjm",
      "include_colab_link": true
    },
    "kernelspec": {
      "name": "python3",
      "display_name": "Python 3"
    },
    "language_info": {
      "name": "python"
    }
  },
  "cells": [
    {
      "cell_type": "markdown",
      "metadata": {
        "id": "view-in-github",
        "colab_type": "text"
      },
      "source": [
        "<a href=\"https://colab.research.google.com/github/Ankit12524/Data-Science-Assignments/blob/main/Programming_assignment_19.ipynb\" target=\"_parent\"><img src=\"https://colab.research.google.com/assets/colab-badge.svg\" alt=\"Open In Colab\"/></a>"
      ]
    },
    {
      "cell_type": "markdown",
      "source": [
        "Question1\n",
        "Create a function that takes a string and returns a string in which each character is repeated once.\n",
        "Examples\n",
        "double_char(\"String\") ➞ \"SSttrriinngg\"\n",
        "\n",
        "double_char(\"Hello World!\") ➞ \"HHeelllloo  WWoorrlldd!!\"\n",
        "\n",
        "double_char(\"1234!_ \") ➞ \"11223344!!__  \"\n"
      ],
      "metadata": {
        "id": "kRnSUNK38ZUD"
      }
    },
    {
      "cell_type": "code",
      "source": [
        "def double_char(s):\n",
        "    return ''.join([char*2 for char in s])\n",
        "\n",
        "double_char(input())"
      ],
      "metadata": {
        "id": "lMmTVvdm0rQc",
        "colab": {
          "base_uri": "https://localhost:8080/",
          "height": 54
        },
        "outputId": "4da08b54-3a76-4fe8-f7a1-9e91d27b71c9"
      },
      "execution_count": 21,
      "outputs": [
        {
          "name": "stdout",
          "output_type": "stream",
          "text": [
            "String\n"
          ]
        },
        {
          "output_type": "execute_result",
          "data": {
            "text/plain": [
              "'SSttrriinngg'"
            ],
            "application/vnd.google.colaboratory.intrinsic+json": {
              "type": "string"
            }
          },
          "metadata": {},
          "execution_count": 21
        }
      ]
    },
    {
      "cell_type": "markdown",
      "source": [
        "Question2\n",
        "Create a function that reverses a boolean value and returns the string \"boolean expected\" if another variable type is given.\n"
      ],
      "metadata": {
        "id": "L9yRAUov8f8B"
      }
    },
    {
      "cell_type": "code",
      "source": [
        "def reverse(value):\n",
        "    if isinstance(value, bool):\n",
        "        return not value\n",
        "    else:\n",
        "        return \"boolean expected\"\n",
        "\n",
        "reverse(True)"
      ],
      "metadata": {
        "id": "5vElVQja0ua0",
        "colab": {
          "base_uri": "https://localhost:8080/"
        },
        "outputId": "9d19951d-b75f-4435-be3c-756496e95eeb"
      },
      "execution_count": 22,
      "outputs": [
        {
          "output_type": "execute_result",
          "data": {
            "text/plain": [
              "False"
            ]
          },
          "metadata": {},
          "execution_count": 22
        }
      ]
    },
    {
      "cell_type": "markdown",
      "source": [
        "Question3\n",
        "Create a function that returns the thickness (in meters) of a piece of paper after folding it n number of times. The paper starts off with a thickness of 0.5mm.\n"
      ],
      "metadata": {
        "id": "9vg_GLg69S1a"
      }
    },
    {
      "cell_type": "code",
      "source": [
        "def num_layers(n):\n",
        "    thickness_mm = 0.5 * (2 ** n)\n",
        "    thickness_m = thickness_mm / 1000\n",
        "    return \"{:.3f}m\".format(thickness_m)\n",
        "\n",
        "num_layers(int(input()))"
      ],
      "metadata": {
        "colab": {
          "base_uri": "https://localhost:8080/",
          "height": 54
        },
        "id": "8oYRkziP9ach",
        "outputId": "f5a1f670-c5c0-4b89-bff9-2a17371f2627"
      },
      "execution_count": 23,
      "outputs": [
        {
          "name": "stdout",
          "output_type": "stream",
          "text": [
            "21\n"
          ]
        },
        {
          "output_type": "execute_result",
          "data": {
            "text/plain": [
              "'1048.576m'"
            ],
            "application/vnd.google.colaboratory.intrinsic+json": {
              "type": "string"
            }
          },
          "metadata": {},
          "execution_count": 23
        }
      ]
    },
    {
      "cell_type": "markdown",
      "source": [
        "Create a function that takes a single string as argument and returns an ordered list containing the indices of all capital letters in the string.\n",
        "Examples\n",
        "index_of_caps(\"eDaBiT\") ➞ [1, 3, 5]\n",
        "\n",
        "index_of_caps(\"eQuINoX\") ➞ [1, 3, 4, 6]\n",
        "\n",
        "index_of_caps(\"determine\") ➞ []\n",
        "\n",
        "index_of_caps(\"STRIKE\") ➞ [0, 1, 2, 3, 4, 5]\n",
        "\n",
        "index_of_caps(\"sUn\") ➞ [1]\n"
      ],
      "metadata": {
        "id": "zojdUbBH9gfJ"
      }
    },
    {
      "cell_type": "code",
      "source": [
        "def index_of_caps(s):\n",
        "    return [i for i, char in enumerate(s) if char.isupper()]\n",
        "\n",
        "index_of_caps('eQuINoX')"
      ],
      "metadata": {
        "colab": {
          "base_uri": "https://localhost:8080/"
        },
        "id": "vLNivz969jJl",
        "outputId": "a4aef09b-1665-403b-d4fb-c1bd3308ff7a"
      },
      "execution_count": 24,
      "outputs": [
        {
          "output_type": "execute_result",
          "data": {
            "text/plain": [
              "[1, 3, 4, 6]"
            ]
          },
          "metadata": {},
          "execution_count": 24
        }
      ]
    },
    {
      "cell_type": "markdown",
      "source": [
        "Using list comprehensions, create a function that finds all even numbers from 1 to the given number.\n",
        "Examples\n",
        "find_even_nums(8) ➞ [2, 4, 6, 8]\n",
        "\n",
        "find_even_nums(4) ➞ [2, 4]\n",
        "\n",
        "find_even_nums(2) ➞ [2]\n"
      ],
      "metadata": {
        "id": "89SgVZa4-Aan"
      }
    },
    {
      "cell_type": "code",
      "source": [
        "def find_even_nums(n):\n",
        "    return [num for num in range(1, n + 1) if num % 2 == 0]\n",
        "\n",
        "find_even_nums(int(input()))"
      ],
      "metadata": {
        "colab": {
          "base_uri": "https://localhost:8080/"
        },
        "id": "DHFQZJdz006o",
        "outputId": "46b0d701-451e-411e-80f9-768b81353ed7"
      },
      "execution_count": 26,
      "outputs": [
        {
          "name": "stdout",
          "output_type": "stream",
          "text": [
            "8\n"
          ]
        },
        {
          "output_type": "execute_result",
          "data": {
            "text/plain": [
              "[2, 4, 6, 8]"
            ]
          },
          "metadata": {},
          "execution_count": 26
        }
      ]
    }
  ]
}